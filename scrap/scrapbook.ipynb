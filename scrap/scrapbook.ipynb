{
 "cells": [
  {
   "cell_type": "markdown",
   "metadata": {
    "nbpresent": {
     "id": "7802ac24-57bb-4d78-b491-78a3a4d3a0f3"
    }
   },
   "source": [
    "# Scrapbook for Home-depot Question"
   ]
  },
  {
   "cell_type": "markdown",
   "metadata": {
    "nbpresent": {
     "id": "8cb4a814-cc92-4e42-b752-7ac739806d6e"
    }
   },
   "source": [
    "## Imports"
   ]
  },
  {
   "cell_type": "code",
   "execution_count": 39,
   "metadata": {
    "nbpresent": {
     "id": "b1471da9-97a0-44f4-a77d-e6cbd2242e10"
    }
   },
   "outputs": [],
   "source": [
    "# Data Wrangling\n",
    "import numpy as np\n",
    "import pandas as pd"
   ]
  },
  {
   "cell_type": "code",
   "execution_count": 40,
   "metadata": {
    "nbpresent": {
     "id": "a038aab1-1c3d-4f2b-a464-021f7f5934d9"
    }
   },
   "outputs": [],
   "source": [
    "# Plotting\n",
    "import matplotlib.pyplot as plt\n",
    "import seaborn as sns\n",
    "sns.set_style(\"whitegrid\")\n",
    "%matplotlib inline"
   ]
  },
  {
   "cell_type": "code",
   "execution_count": 41,
   "metadata": {
    "nbpresent": {
     "id": "6690c229-a167-4982-a228-0b9b296ba4e7"
    }
   },
   "outputs": [],
   "source": [
    "# Misc\n",
    "import os\n",
    "import re\n",
    "from pprint import pprint as pp\n",
    "import logging\n",
    "import zipfile"
   ]
  },
  {
   "cell_type": "code",
   "execution_count": 42,
   "metadata": {
    "nbpresent": {
     "id": "a8756eac-bf89-4b03-bd6b-d0983ca81b78"
    }
   },
   "outputs": [],
   "source": [
    "# Machine Learning\n",
    "# import nltk\n",
    "import spacy\n",
    "# nltk.download('punkt')\n",
    "# nltk.download('averaged_perceptron_tagger')\n",
    "# from nltk.stem.snowball import SnowballStemmer\n",
    "# from sklearn.ensemble import RandomForestRegressor, BaggingRegressor\n",
    "# from sklearn.model_selection import train_test_split\n",
    "# from sklearn import metrics"
   ]
  },
  {
   "cell_type": "markdown",
   "metadata": {
    "nbpresent": {
     "id": "8c6b2ec8-1650-4b34-beaa-4e7f5d45e8c6"
    }
   },
   "source": [
    "## Config"
   ]
  },
  {
   "cell_type": "code",
   "execution_count": 43,
   "metadata": {
    "nbpresent": {
     "id": "9f78f3aa-45d1-4f95-b507-fd314a39c48f"
    }
   },
   "outputs": [],
   "source": [
    "logging.basicConfig(filename='run.log', level=logging.INFO)"
   ]
  },
  {
   "cell_type": "code",
   "execution_count": 44,
   "metadata": {
    "nbpresent": {
     "id": "b7dbf73b-4f56-4728-a9d7-78457d588ae4"
    }
   },
   "outputs": [],
   "source": [
    "pd.options.mode.chained_assignment = None"
   ]
  },
  {
   "cell_type": "code",
   "execution_count": 45,
   "metadata": {
    "nbpresent": {
     "id": "899a7357-3f5e-4450-9282-28c0c56282a1"
    }
   },
   "outputs": [],
   "source": [
    "data_path = \"../data/\""
   ]
  },
  {
   "cell_type": "code",
   "execution_count": 46,
   "metadata": {
    "nbpresent": {
     "id": "254d0c9b-0059-4af2-a6cb-34973e54402e"
    }
   },
   "outputs": [],
   "source": [
    "nlp = spacy.load('en')"
   ]
  },
  {
   "cell_type": "code",
   "execution_count": 47,
   "metadata": {
    "nbpresent": {
     "id": "eef3d16e-83ba-4db8-a33e-90acf016cb07"
    }
   },
   "outputs": [],
   "source": [
    "nlp_tag = spacy.load('en', disable=['parser', 'ner'])"
   ]
  },
  {
   "cell_type": "markdown",
   "metadata": {
    "nbpresent": {
     "id": "55a84781-5195-4501-a5e0-5c58b98d47b0"
    }
   },
   "source": [
    "## Functions"
   ]
  },
  {
   "cell_type": "code",
   "execution_count": 48,
   "metadata": {
    "nbpresent": {
     "id": "03a4d556-558e-4362-89b1-d34d445f494d"
    }
   },
   "outputs": [],
   "source": [
    "def str_stemmer(s):\n",
    "    return \" \".join([stemmer.stem(word) for word in s.lower().split()])"
   ]
  },
  {
   "cell_type": "code",
   "execution_count": 49,
   "metadata": {
    "nbpresent": {
     "id": "56f9391a-9aae-4a54-b928-285f00bb2dda"
    }
   },
   "outputs": [],
   "source": [
    "def str_common_word(str1, str2):\n",
    "    return sum(int(str2.find(word)>=0) for word in str1.split())"
   ]
  },
  {
   "cell_type": "code",
   "execution_count": 50,
   "metadata": {
    "nbpresent": {
     "id": "0bb41541-71ae-4c54-8c8c-383bd8b337c9"
    }
   },
   "outputs": [],
   "source": [
    "def process_data(df):\n",
    "    df['product_title'] = df['product_title'].apply(lambda x: str_stemmer(x))\n",
    "    df['search_term'] = df['search_term'].apply(lambda x: str_stemmer(x))\n",
    "    df['product_description'] = df['product_description'].apply(lambda x: str_stemmer(x))\n",
    "    df['query_len'] = df['search_term'].apply(lambda x: len(x.split()))\n",
    "    df['product_info'] = df['search_term']+\"\\t\"+df['product_title']+\"\\t\"+df['product_description']\n",
    "    df['word_in_title'] = df['product_info'].map(lambda x:str_common_word(x.split('\\t')[0],x.split('\\t')[1]))\n",
    "    df['word_in_description'] = df['product_info'].map(lambda x:str_common_word(x.split('\\t')[0],x.split('\\t')[2]))\n",
    "    return df"
   ]
  },
  {
   "cell_type": "code",
   "execution_count": 51,
   "metadata": {
    "nbpresent": {
     "id": "98f4c21e-4c20-4269-baf9-e8aee823a0a2"
    }
   },
   "outputs": [],
   "source": [
    "def get_pos_counts(search_terms_list):\n",
    "    st = nlp(search_terms_list[0])\n",
    "    pos_st1 = pd.Series([x.pos_ for x in st]).value_counts()\n",
    "    del st\n",
    "    st = nlp(search_terms_list[1])\n",
    "    pos_st2 = pd.Series([x.pos_ for x in st]).value_counts()\n",
    "    del st\n",
    "    pos_tot = (pos_st1 + pos_st2).sort_values()"
   ]
  },
  {
   "cell_type": "code",
   "execution_count": 52,
   "metadata": {
    "nbpresent": {
     "id": "a5561847-0aa7-477a-b5ad-7a9d3c34c5b3"
    }
   },
   "outputs": [],
   "source": [
    "# # Plot\n",
    "# ax = pos_tot.plot(kind='bar')\n",
    "# ax.set_title('Count of POS Tags', )\n",
    "# ax.set_xlabel('POS Tag')\n",
    "# ax.set_ylabel('Count')\n",
    "# plt.savefig('pos_tags_bar.png', dpi=500, bbox_inches=\"tight\")"
   ]
  },
  {
   "cell_type": "code",
   "execution_count": 53,
   "metadata": {
    "nbpresent": {
     "id": "64e098f8-7623-45fc-82e3-6d87a322783c"
    }
   },
   "outputs": [],
   "source": [
    "def lemm(word, nlp):\n",
    "    return nlp(word)[0].lemma_"
   ]
  },
  {
   "cell_type": "markdown",
   "metadata": {
    "nbpresent": {
     "id": "71f0e3de-8a6b-4c09-a1f0-1431f45240ef"
    }
   },
   "source": [
    "## Import data"
   ]
  },
  {
   "cell_type": "code",
   "execution_count": 54,
   "metadata": {
    "nbpresent": {
     "id": "09e45bde-fc88-4519-90a5-6c18be7a6b2c"
    }
   },
   "outputs": [],
   "source": [
    "logging.info(\"Importing Data...\")\n",
    "os.listdir(data_path)\n",
    "zips = [f for f in os.listdir(data_path) if re.search(\".zip$\", f)]\n",
    "data_dict = {}\n",
    "for zipped in zips:\n",
    "    data_dict[zipped.split('.')[0]] = pd.read_csv(data_path+zipped, compression='zip', encoding='latin1')\n",
    "test_df = data_dict['test']\n",
    "train_df = data_dict['train']\n",
    "prod_desc = data_dict['product_descriptions']\n",
    "attributes = data_dict['attributes']\n",
    "sample_sub = data_dict['sample_submission']"
   ]
  },
  {
   "cell_type": "code",
   "execution_count": 55,
   "metadata": {},
   "outputs": [
    {
     "name": "stdout",
     "output_type": "stream",
     "text": [
      "74067\n"
     ]
    }
   ],
   "source": [
    "print(len(train_df['search_term']))"
   ]
  },
  {
   "cell_type": "markdown",
   "metadata": {
    "nbpresent": {
     "id": "4433a0d1-3a07-42a3-a558-3e287a8d4c67"
    }
   },
   "source": [
    "## Data Handling"
   ]
  },
  {
   "cell_type": "code",
   "execution_count": 56,
   "metadata": {
    "nbpresent": {
     "id": "6fa1b5a5-bb43-4d4e-8f83-92d7c3330b2a"
    }
   },
   "outputs": [],
   "source": [
    "logging.info(\"Preparing Data...\")\n",
    "attr = attributes.dropna(how='all')\n",
    "attr[['name','value']] = attr[['name','value']].fillna('')\n",
    "attr['product_uid'] = attr['product_uid'].apply(lambda x: int(x))\n",
    "attr['name'] = attr['name'].apply(lambda x: '' if \"Bullet\" in x else x)\n",
    "attr['Attributes'] = attr['name'] + '\\t' + attr['value'] + '\\n'\n",
    "attr = attr.drop(['name','value'], axis=1).groupby('product_uid').sum().reset_index()\n",
    "df_train = pd.merge(train_df, prod_desc, how='left', on='product_uid').drop('id', axis=1).merge(attr, on='product_uid', how='left').fillna('')\n",
    "df_train = df_train.reset_index().drop('index', axis=1).reset_index()"
   ]
  },
  {
   "cell_type": "code",
   "execution_count": 57,
   "metadata": {},
   "outputs": [
    {
     "name": "stdout",
     "output_type": "stream",
     "text": [
      "74067\n"
     ]
    }
   ],
   "source": [
    "print(len(df_train['search_term']))"
   ]
  },
  {
   "cell_type": "code",
   "execution_count": 58,
   "metadata": {
    "nbpresent": {
     "id": "dfb78a26-4b5a-405a-81ab-42a11823e4f0"
    }
   },
   "outputs": [
    {
     "data": {
      "text/html": [
       "<div>\n",
       "<style scoped>\n",
       "    .dataframe tbody tr th:only-of-type {\n",
       "        vertical-align: middle;\n",
       "    }\n",
       "\n",
       "    .dataframe tbody tr th {\n",
       "        vertical-align: top;\n",
       "    }\n",
       "\n",
       "    .dataframe thead th {\n",
       "        text-align: right;\n",
       "    }\n",
       "</style>\n",
       "<table border=\"1\" class=\"dataframe\">\n",
       "  <thead>\n",
       "    <tr style=\"text-align: right;\">\n",
       "      <th></th>\n",
       "      <th>index</th>\n",
       "      <th>product_uid</th>\n",
       "      <th>product_title</th>\n",
       "      <th>search_term</th>\n",
       "      <th>relevance</th>\n",
       "      <th>product_description</th>\n",
       "      <th>Attributes</th>\n",
       "    </tr>\n",
       "  </thead>\n",
       "  <tbody>\n",
       "    <tr>\n",
       "      <th>0</th>\n",
       "      <td>0</td>\n",
       "      <td>100001</td>\n",
       "      <td>Simpson Strong-Tie 12-Gauge Angle</td>\n",
       "      <td>angle bracket</td>\n",
       "      <td>3.00</td>\n",
       "      <td>Not only do angles make joints stronger, they ...</td>\n",
       "      <td>\\tVersatile connector for various 90Â° connect...</td>\n",
       "    </tr>\n",
       "    <tr>\n",
       "      <th>1</th>\n",
       "      <td>1</td>\n",
       "      <td>100001</td>\n",
       "      <td>Simpson Strong-Tie 12-Gauge Angle</td>\n",
       "      <td>l bracket</td>\n",
       "      <td>2.50</td>\n",
       "      <td>Not only do angles make joints stronger, they ...</td>\n",
       "      <td>\\tVersatile connector for various 90Â° connect...</td>\n",
       "    </tr>\n",
       "    <tr>\n",
       "      <th>2</th>\n",
       "      <td>2</td>\n",
       "      <td>100002</td>\n",
       "      <td>BEHR Premium Textured DeckOver 1-gal. #SC-141 ...</td>\n",
       "      <td>deck over</td>\n",
       "      <td>3.00</td>\n",
       "      <td>BEHR Premium Textured DECKOVER is an innovativ...</td>\n",
       "      <td>Application Method\\tBrush,Roller,Spray\\nAssemb...</td>\n",
       "    </tr>\n",
       "    <tr>\n",
       "      <th>3</th>\n",
       "      <td>3</td>\n",
       "      <td>100005</td>\n",
       "      <td>Delta Vero 1-Handle Shower Only Faucet Trim Ki...</td>\n",
       "      <td>rain shower head</td>\n",
       "      <td>2.33</td>\n",
       "      <td>Update your bathroom with the Delta Vero Singl...</td>\n",
       "      <td>Bath Faucet Type\\tCombo Tub and Shower\\nBuilt-...</td>\n",
       "    </tr>\n",
       "    <tr>\n",
       "      <th>4</th>\n",
       "      <td>4</td>\n",
       "      <td>100005</td>\n",
       "      <td>Delta Vero 1-Handle Shower Only Faucet Trim Ki...</td>\n",
       "      <td>shower only faucet</td>\n",
       "      <td>2.67</td>\n",
       "      <td>Update your bathroom with the Delta Vero Singl...</td>\n",
       "      <td>Bath Faucet Type\\tCombo Tub and Shower\\nBuilt-...</td>\n",
       "    </tr>\n",
       "  </tbody>\n",
       "</table>\n",
       "</div>"
      ],
      "text/plain": [
       "   index  product_uid                                      product_title  \\\n",
       "0      0       100001                  Simpson Strong-Tie 12-Gauge Angle   \n",
       "1      1       100001                  Simpson Strong-Tie 12-Gauge Angle   \n",
       "2      2       100002  BEHR Premium Textured DeckOver 1-gal. #SC-141 ...   \n",
       "3      3       100005  Delta Vero 1-Handle Shower Only Faucet Trim Ki...   \n",
       "4      4       100005  Delta Vero 1-Handle Shower Only Faucet Trim Ki...   \n",
       "\n",
       "          search_term  relevance  \\\n",
       "0       angle bracket       3.00   \n",
       "1           l bracket       2.50   \n",
       "2           deck over       3.00   \n",
       "3    rain shower head       2.33   \n",
       "4  shower only faucet       2.67   \n",
       "\n",
       "                                 product_description  \\\n",
       "0  Not only do angles make joints stronger, they ...   \n",
       "1  Not only do angles make joints stronger, they ...   \n",
       "2  BEHR Premium Textured DECKOVER is an innovativ...   \n",
       "3  Update your bathroom with the Delta Vero Singl...   \n",
       "4  Update your bathroom with the Delta Vero Singl...   \n",
       "\n",
       "                                          Attributes  \n",
       "0  \\tVersatile connector for various 90Â° connect...  \n",
       "1  \\tVersatile connector for various 90Â° connect...  \n",
       "2  Application Method\\tBrush,Roller,Spray\\nAssemb...  \n",
       "3  Bath Faucet Type\\tCombo Tub and Shower\\nBuilt-...  \n",
       "4  Bath Faucet Type\\tCombo Tub and Shower\\nBuilt-...  "
      ]
     },
     "execution_count": 58,
     "metadata": {},
     "output_type": "execute_result"
    }
   ],
   "source": [
    "df_train.head()"
   ]
  },
  {
   "cell_type": "markdown",
   "metadata": {
    "nbpresent": {
     "id": "4ed090a5-b7f7-438a-a0e4-26fefc66b3ef"
    }
   },
   "source": [
    "## Investigation"
   ]
  },
  {
   "cell_type": "code",
   "execution_count": 59,
   "metadata": {
    "nbpresent": {
     "id": "54a15042-c322-4c05-bc79-a104b82982c4"
    }
   },
   "outputs": [
    {
     "data": {
      "text/plain": [
       "<matplotlib.axes._subplots.AxesSubplot at 0x11d81a3c8>"
      ]
     },
     "execution_count": 59,
     "metadata": {},
     "output_type": "execute_result"
    },
    {
     "data": {
      "image/png": "[encoded data removed]",
      "text/plain": [
       "<Figure size 432x288 with 1 Axes>"
      ]
     },
     "metadata": {},
     "output_type": "display_data"
    }
   ],
   "source": [
    "df_train['relevance'].hist(bins=8)"
   ]
  },
  {
   "cell_type": "code",
   "execution_count": 60,
   "metadata": {
    "nbpresent": {
     "id": "ccd0ef62-0abb-496b-8bea-6f3826f715b5"
    }
   },
   "outputs": [
    {
     "data": {
      "text/plain": [
       "3.1592072042880095"
      ]
     },
     "execution_count": 60,
     "metadata": {},
     "output_type": "execute_result"
    }
   ],
   "source": [
    "df_train['search_term'].apply(lambda x: len(x.split())).mean()"
   ]
  },
  {
   "cell_type": "code",
   "execution_count": 61,
   "metadata": {
    "nbpresent": {
     "id": "9dd05641-9951-46ca-80bd-d4926cc72237"
    }
   },
   "outputs": [],
   "source": [
    "words_st = ' '.join(df_train['search_term'].values).split()"
   ]
  },
  {
   "cell_type": "code",
   "execution_count": 62,
   "metadata": {
    "nbpresent": {
     "id": "6071138a-7888-4a21-a0d6-1d5a02ea3d3c"
    }
   },
   "outputs": [
    {
     "data": {
      "text/plain": [
       "7.518975066666667"
      ]
     },
     "execution_count": 62,
     "metadata": {},
     "output_type": "execute_result"
    }
   ],
   "source": [
    "len(words_st)/5000 * 9.64 / 60"
   ]
  },
  {
   "cell_type": "code",
   "execution_count": 63,
   "metadata": {
    "nbpresent": {
     "id": "adbdfc3e-8fa2-41b0-8193-b72972d10a49"
    }
   },
   "outputs": [
    {
     "data": {
      "text/plain": [
       "24.959253333333333"
      ]
     },
     "execution_count": 63,
     "metadata": {},
     "output_type": "execute_result"
    }
   ],
   "source": [
    "len(words_st)/5000 * 32 / 60"
   ]
  },
  {
   "cell_type": "markdown",
   "metadata": {
    "nbpresent": {
     "id": "e9e6eaee-eb4c-425e-8507-7c2e7bcaace9"
    }
   },
   "source": [
    "Okay. That was decent. However, let's work on this and do better!"
   ]
  },
  {
   "cell_type": "markdown",
   "metadata": {
    "nbpresent": {
     "id": "26104914-0592-492a-9632-6eb27d549c30"
    }
   },
   "source": [
    "Attributes wasn't used...I think there must be something here. Also only stems were taken...can we not extract keywords?"
   ]
  },
  {
   "cell_type": "code",
   "execution_count": 64,
   "metadata": {
    "nbpresent": {
     "id": "34214fa8-c4c9-4b76-822d-706b512253a3"
    }
   },
   "outputs": [],
   "source": [
    "df_train['query_len'] = df_train['search_term'].apply(lambda x: len(x.split()))"
   ]
  },
  {
   "cell_type": "code",
   "execution_count": 65,
   "metadata": {
    "nbpresent": {
     "id": "c6180c2c-9781-421d-9208-5047c1f5022c"
    }
   },
   "outputs": [
    {
     "data": {
      "text/plain": [
       "<matplotlib.axes._subplots.AxesSubplot at 0x12cb36f28>"
      ]
     },
     "execution_count": 65,
     "metadata": {},
     "output_type": "execute_result"
    },
    {
     "data": {
      "image/png": "[encoded data removed]",
      "text/plain": [
       "<Figure size 432x288 with 1 Axes>"
      ]
     },
     "metadata": {},
     "output_type": "display_data"
    }
   ],
   "source": [
    "df_train['query_len'].hist(bins=15)"
   ]
  },
  {
   "cell_type": "code",
   "execution_count": 66,
   "metadata": {
    "nbpresent": {
     "id": "ee51aed1-dd57-482a-bf88-6be9a4e60f32"
    },
    "scrolled": true
   },
   "outputs": [
    {
     "data": {
      "text/plain": [
       "<matplotlib.axes._subplots.AxesSubplot at 0x1254569e8>"
      ]
     },
     "execution_count": 66,
     "metadata": {},
     "output_type": "execute_result"
    },
    {
     "data": {
      "image/png": "[encoded data removed]",
      "text/plain": [
       "<Figure size 432x288 with 1 Axes>"
      ]
     },
     "metadata": {},
     "output_type": "display_data"
    }
   ],
   "source": [
    "df_train[['query_len','relevance']].plot(kind='scatter', x='relevance', y='query_len', alpha=0.4)"
   ]
  },
  {
   "cell_type": "code",
   "execution_count": 67,
   "metadata": {},
   "outputs": [
    {
     "data": {
      "text/html": [
       "<div>\n",
       "<style scoped>\n",
       "    .dataframe tbody tr th:only-of-type {\n",
       "        vertical-align: middle;\n",
       "    }\n",
       "\n",
       "    .dataframe tbody tr th {\n",
       "        vertical-align: top;\n",
       "    }\n",
       "\n",
       "    .dataframe thead th {\n",
       "        text-align: right;\n",
       "    }\n",
       "</style>\n",
       "<table border=\"1\" class=\"dataframe\">\n",
       "  <thead>\n",
       "    <tr style=\"text-align: right;\">\n",
       "      <th></th>\n",
       "      <th>index</th>\n",
       "      <th>product_uid</th>\n",
       "      <th>product_title</th>\n",
       "      <th>search_term</th>\n",
       "      <th>relevance</th>\n",
       "      <th>product_description</th>\n",
       "      <th>Attributes</th>\n",
       "      <th>query_len</th>\n",
       "    </tr>\n",
       "  </thead>\n",
       "  <tbody>\n",
       "    <tr>\n",
       "      <th>0</th>\n",
       "      <td>0</td>\n",
       "      <td>100001</td>\n",
       "      <td>Simpson Strong-Tie 12-Gauge Angle</td>\n",
       "      <td>angle bracket</td>\n",
       "      <td>3.0</td>\n",
       "      <td>Not only do angles make joints stronger, they ...</td>\n",
       "      <td>\\tVersatile connector for various 90Â° connect...</td>\n",
       "      <td>2</td>\n",
       "    </tr>\n",
       "  </tbody>\n",
       "</table>\n",
       "</div>"
      ],
      "text/plain": [
       "   index  product_uid                      product_title    search_term  \\\n",
       "0      0       100001  Simpson Strong-Tie 12-Gauge Angle  angle bracket   \n",
       "\n",
       "   relevance                                product_description  \\\n",
       "0        3.0  Not only do angles make joints stronger, they ...   \n",
       "\n",
       "                                          Attributes  query_len  \n",
       "0  \\tVersatile connector for various 90Â° connect...          2  "
      ]
     },
     "execution_count": 67,
     "metadata": {},
     "output_type": "execute_result"
    }
   ],
   "source": [
    "df_train.head(1)"
   ]
  },
  {
   "cell_type": "code",
   "execution_count": 68,
   "metadata": {},
   "outputs": [],
   "source": [
    "cols = list(df_train.columns)"
   ]
  },
  {
   "cell_type": "code",
   "execution_count": 69,
   "metadata": {
    "nbpresent": {
     "id": "2a0b4eca-6ff2-463c-8d41-85f76f08837b"
    }
   },
   "outputs": [
    {
     "name": "stdout",
     "output_type": "stream",
     "text": [
      "Saving searches...\n",
      "Saving titles...\n"
     ]
    }
   ],
   "source": [
    "# I'm Pickle Riiiick!\n",
    "print('Saving searches...')\n",
    "searches_nlp = df_train.iloc[:, [cols.index('index'),cols.index('search_term')]]\n",
    "searches_nlp['search_term'] = searches_nlp['search_term'].apply(nlp_tag)\n",
    "searches_nlp.to_pickle(data_path+'search_term.pickle')\n",
    "del searches_nlp\n",
    "\n",
    "print('Saving titles...')\n",
    "product_title_nlp = df_train.iloc[:, [cols.index('index'),cols.index('product_title')]]\n",
    "product_title_nlp['product_title'] = product_title_nlp['product_title'].apply(nlp_tag)\n",
    "product_title_nlp.to_pickle(data_path+'product_title.pickle')\n",
    "del product_title_nlp"
   ]
  },
  {
   "cell_type": "code",
   "execution_count": 70,
   "metadata": {},
   "outputs": [
    {
     "name": "stdout",
     "output_type": "stream",
     "text": [
      "Saving file 1 of 4\n",
      "Saving file 2 of 4\n",
      "Saving file 3 of 4\n",
      "Saving file 4 of 4\n"
     ]
    }
   ],
   "source": [
    "sp = 4\n",
    "for i in range(1,sp+1):\n",
    "    print(\"Saving file {} of {}\".format(i,sp))\n",
    "    product_desc_nlp = df_train.iloc[int((i-1)*len(df_train)/sp):int(i*len(df_train)/sp), [cols.index('index'),cols.index('product_description')]]\n",
    "    product_desc_nlp['product_description'] = product_desc_nlp['product_description'].apply(nlp_tag)\n",
    "    product_desc_nlp.to_pickle(data_path+'product_description{}.pickle'.format(str(i)))\n",
    "    del product_desc_nlp"
   ]
  },
  {
   "cell_type": "code",
   "execution_count": 71,
   "metadata": {},
   "outputs": [
    {
     "name": "stdout",
     "output_type": "stream",
     "text": [
      "Saving file 1 of 5\n",
      "Saving file 2 of 5\n",
      "Saving file 3 of 5\n",
      "Saving file 4 of 5\n",
      "Saving file 5 of 5\n"
     ]
    }
   ],
   "source": [
    "sp = 5\n",
    "for i in range(1,sp+1):\n",
    "    print(\"Saving file {} of {}\".format(i,sp))\n",
    "    attr_nlp = df_train.iloc[int((i-1)*len(df_train)/sp):int(i*len(df_train)/sp), [cols.index('index'),cols.index('Attributes')]]\n",
    "    attr_nlp['Attributes'] = attr_nlp['Attributes'].apply(nlp_tag)\n",
    "    attr_nlp.to_pickle(data_path+'attribute{}.pickle'.format(str(i)))\n",
    "    del attr_nlp"
   ]
  },
  {
   "cell_type": "code",
   "execution_count": 74,
   "metadata": {},
   "outputs": [],
   "source": [
    "df_train[['index','relevance']].to_pickle(data_path + 'uid_relevance.pickle')"
   ]
  },
  {
   "cell_type": "code",
   "execution_count": 76,
   "metadata": {},
   "outputs": [
    {
     "data": {
      "text/html": [
       "<div>\n",
       "<style scoped>\n",
       "    .dataframe tbody tr th:only-of-type {\n",
       "        vertical-align: middle;\n",
       "    }\n",
       "\n",
       "    .dataframe tbody tr th {\n",
       "        vertical-align: top;\n",
       "    }\n",
       "\n",
       "    .dataframe thead th {\n",
       "        text-align: right;\n",
       "    }\n",
       "</style>\n",
       "<table border=\"1\" class=\"dataframe\">\n",
       "  <thead>\n",
       "    <tr style=\"text-align: right;\">\n",
       "      <th></th>\n",
       "      <th>index</th>\n",
       "      <th>product_uid</th>\n",
       "      <th>product_title</th>\n",
       "      <th>search_term</th>\n",
       "      <th>relevance</th>\n",
       "      <th>product_description</th>\n",
       "      <th>Attributes</th>\n",
       "      <th>query_len</th>\n",
       "    </tr>\n",
       "  </thead>\n",
       "  <tbody>\n",
       "    <tr>\n",
       "      <th>0</th>\n",
       "      <td>0</td>\n",
       "      <td>100001</td>\n",
       "      <td>Simpson Strong-Tie 12-Gauge Angle</td>\n",
       "      <td>angle bracket</td>\n",
       "      <td>3.00</td>\n",
       "      <td>Not only do angles make joints stronger, they ...</td>\n",
       "      <td>\\tVersatile connector for various 90Â° connect...</td>\n",
       "      <td>2</td>\n",
       "    </tr>\n",
       "    <tr>\n",
       "      <th>1</th>\n",
       "      <td>1</td>\n",
       "      <td>100001</td>\n",
       "      <td>Simpson Strong-Tie 12-Gauge Angle</td>\n",
       "      <td>l bracket</td>\n",
       "      <td>2.50</td>\n",
       "      <td>Not only do angles make joints stronger, they ...</td>\n",
       "      <td>\\tVersatile connector for various 90Â° connect...</td>\n",
       "      <td>2</td>\n",
       "    </tr>\n",
       "    <tr>\n",
       "      <th>2</th>\n",
       "      <td>2</td>\n",
       "      <td>100002</td>\n",
       "      <td>BEHR Premium Textured DeckOver 1-gal. #SC-141 ...</td>\n",
       "      <td>deck over</td>\n",
       "      <td>3.00</td>\n",
       "      <td>BEHR Premium Textured DECKOVER is an innovativ...</td>\n",
       "      <td>Application Method\\tBrush,Roller,Spray\\nAssemb...</td>\n",
       "      <td>2</td>\n",
       "    </tr>\n",
       "    <tr>\n",
       "      <th>3</th>\n",
       "      <td>3</td>\n",
       "      <td>100005</td>\n",
       "      <td>Delta Vero 1-Handle Shower Only Faucet Trim Ki...</td>\n",
       "      <td>rain shower head</td>\n",
       "      <td>2.33</td>\n",
       "      <td>Update your bathroom with the Delta Vero Singl...</td>\n",
       "      <td>Bath Faucet Type\\tCombo Tub and Shower\\nBuilt-...</td>\n",
       "      <td>3</td>\n",
       "    </tr>\n",
       "    <tr>\n",
       "      <th>4</th>\n",
       "      <td>4</td>\n",
       "      <td>100005</td>\n",
       "      <td>Delta Vero 1-Handle Shower Only Faucet Trim Ki...</td>\n",
       "      <td>shower only faucet</td>\n",
       "      <td>2.67</td>\n",
       "      <td>Update your bathroom with the Delta Vero Singl...</td>\n",
       "      <td>Bath Faucet Type\\tCombo Tub and Shower\\nBuilt-...</td>\n",
       "      <td>3</td>\n",
       "    </tr>\n",
       "    <tr>\n",
       "      <th>5</th>\n",
       "      <td>5</td>\n",
       "      <td>100006</td>\n",
       "      <td>Whirlpool 1.9 cu. ft. Over the Range Convectio...</td>\n",
       "      <td>convection otr</td>\n",
       "      <td>3.00</td>\n",
       "      <td>Achieving delicious results is almost effortle...</td>\n",
       "      <td>Appliance Type\\tOver the Range Microwave\\nAsse...</td>\n",
       "      <td>2</td>\n",
       "    </tr>\n",
       "    <tr>\n",
       "      <th>6</th>\n",
       "      <td>6</td>\n",
       "      <td>100006</td>\n",
       "      <td>Whirlpool 1.9 cu. ft. Over the Range Convectio...</td>\n",
       "      <td>microwave over stove</td>\n",
       "      <td>2.67</td>\n",
       "      <td>Achieving delicious results is almost effortle...</td>\n",
       "      <td>Appliance Type\\tOver the Range Microwave\\nAsse...</td>\n",
       "      <td>3</td>\n",
       "    </tr>\n",
       "    <tr>\n",
       "      <th>7</th>\n",
       "      <td>7</td>\n",
       "      <td>100006</td>\n",
       "      <td>Whirlpool 1.9 cu. ft. Over the Range Convectio...</td>\n",
       "      <td>microwaves</td>\n",
       "      <td>3.00</td>\n",
       "      <td>Achieving delicious results is almost effortle...</td>\n",
       "      <td>Appliance Type\\tOver the Range Microwave\\nAsse...</td>\n",
       "      <td>1</td>\n",
       "    </tr>\n",
       "    <tr>\n",
       "      <th>8</th>\n",
       "      <td>8</td>\n",
       "      <td>100007</td>\n",
       "      <td>Lithonia Lighting Quantum 2-Light Black LED Em...</td>\n",
       "      <td>emergency light</td>\n",
       "      <td>2.67</td>\n",
       "      <td>The Quantum Adjustable 2-Light LED Black Emerg...</td>\n",
       "      <td>Battery Power Type\\tNi-Cad\\nBattery Size\\t.Bui...</td>\n",
       "      <td>2</td>\n",
       "    </tr>\n",
       "    <tr>\n",
       "      <th>9</th>\n",
       "      <td>9</td>\n",
       "      <td>100009</td>\n",
       "      <td>House of Fara 3/4 in. x 3 in. x 8 ft. MDF Flut...</td>\n",
       "      <td>mdf 3/4</td>\n",
       "      <td>3.00</td>\n",
       "      <td>Get the House of Fara 3/4 in. x 3 in. x 8 ft. ...</td>\n",
       "      <td>Application\\tDoor &amp; Window\\n\\tMade of primed M...</td>\n",
       "      <td>2</td>\n",
       "    </tr>\n",
       "    <tr>\n",
       "      <th>10</th>\n",
       "      <td>10</td>\n",
       "      <td>100010</td>\n",
       "      <td>Valley View Industries Metal Stakes (4-Pack)</td>\n",
       "      <td>steele stake</td>\n",
       "      <td>2.67</td>\n",
       "      <td>Valley View Industries Metal Stakes (4-Pack) a...</td>\n",
       "      <td>Attachable\\tNo\\n\\tCan be used with all valley ...</td>\n",
       "      <td>2</td>\n",
       "    </tr>\n",
       "    <tr>\n",
       "      <th>11</th>\n",
       "      <td>11</td>\n",
       "      <td>100011</td>\n",
       "      <td>Toro Personal Pace Recycler 22 in. Variable Sp...</td>\n",
       "      <td>briggs and stratton lawn mower</td>\n",
       "      <td>3.00</td>\n",
       "      <td>Recycler 22 in. Personal Pace Variable Speed S...</td>\n",
       "      <td>Assembled Depth (in.)\\t59 in\\nAssembled Height...</td>\n",
       "      <td>5</td>\n",
       "    </tr>\n",
       "    <tr>\n",
       "      <th>12</th>\n",
       "      <td>12</td>\n",
       "      <td>100011</td>\n",
       "      <td>Toro Personal Pace Recycler 22 in. Variable Sp...</td>\n",
       "      <td>gas mowe</td>\n",
       "      <td>3.00</td>\n",
       "      <td>Recycler 22 in. Personal Pace Variable Speed S...</td>\n",
       "      <td>Assembled Depth (in.)\\t59 in\\nAssembled Height...</td>\n",
       "      <td>2</td>\n",
       "    </tr>\n",
       "    <tr>\n",
       "      <th>13</th>\n",
       "      <td>13</td>\n",
       "      <td>100011</td>\n",
       "      <td>Toro Personal Pace Recycler 22 in. Variable Sp...</td>\n",
       "      <td>honda mower</td>\n",
       "      <td>2.00</td>\n",
       "      <td>Recycler 22 in. Personal Pace Variable Speed S...</td>\n",
       "      <td>Assembled Depth (in.)\\t59 in\\nAssembled Height...</td>\n",
       "      <td>2</td>\n",
       "    </tr>\n",
       "    <tr>\n",
       "      <th>14</th>\n",
       "      <td>14</td>\n",
       "      <td>100012</td>\n",
       "      <td>Hampton Bay Caramel Simple Weave Bamboo Rollup...</td>\n",
       "      <td>hampton bay chestnut pull up shade</td>\n",
       "      <td>2.67</td>\n",
       "      <td>The 96 in. wide Caramel Simple Weave Rollup Ba...</td>\n",
       "      <td>Actual Blind/Shade Width (In.)\\t96\\nArched\\tNo...</td>\n",
       "      <td>6</td>\n",
       "    </tr>\n",
       "    <tr>\n",
       "      <th>15</th>\n",
       "      <td>15</td>\n",
       "      <td>100013</td>\n",
       "      <td>InSinkErator SinkTop Switch Single Outlet for ...</td>\n",
       "      <td>disposer</td>\n",
       "      <td>2.67</td>\n",
       "      <td>The InSinkErator SinkTop Switch Single Outlet ...</td>\n",
       "      <td>\\tKit includes satin nickel, chrome and white ...</td>\n",
       "      <td>1</td>\n",
       "    </tr>\n",
       "    <tr>\n",
       "      <th>16</th>\n",
       "      <td>16</td>\n",
       "      <td>100016</td>\n",
       "      <td>Sunjoy Calais 8 ft. x 5 ft. x 8 ft. Steel Tile...</td>\n",
       "      <td>grill gazebo</td>\n",
       "      <td>3.00</td>\n",
       "      <td>Make grilling great with this handsome and fun...</td>\n",
       "      <td>Approximate Depth (ft.)\\t8\\nApproximate Width ...</td>\n",
       "      <td>2</td>\n",
       "    </tr>\n",
       "    <tr>\n",
       "      <th>17</th>\n",
       "      <td>17</td>\n",
       "      <td>100017</td>\n",
       "      <td>MD Building Products 36 in. x 36 in. Cloverlea...</td>\n",
       "      <td>door guards</td>\n",
       "      <td>1.00</td>\n",
       "      <td>The MD Building Products 36 in. x 36 in. x 1/5...</td>\n",
       "      <td>\\tUse to repair door or window screens, or add...</td>\n",
       "      <td>2</td>\n",
       "    </tr>\n",
       "    <tr>\n",
       "      <th>18</th>\n",
       "      <td>18</td>\n",
       "      <td>100017</td>\n",
       "      <td>MD Building Products 36 in. x 36 in. Cloverlea...</td>\n",
       "      <td>metal plate cover gcfi</td>\n",
       "      <td>1.67</td>\n",
       "      <td>The MD Building Products 36 in. x 36 in. x 1/5...</td>\n",
       "      <td>\\tUse to repair door or window screens, or add...</td>\n",
       "      <td>4</td>\n",
       "    </tr>\n",
       "    <tr>\n",
       "      <th>19</th>\n",
       "      <td>19</td>\n",
       "      <td>100017</td>\n",
       "      <td>MD Building Products 36 in. x 36 in. Cloverlea...</td>\n",
       "      <td>radiator grate</td>\n",
       "      <td>2.33</td>\n",
       "      <td>The MD Building Products 36 in. x 36 in. x 1/5...</td>\n",
       "      <td>\\tUse to repair door or window screens, or add...</td>\n",
       "      <td>2</td>\n",
       "    </tr>\n",
       "    <tr>\n",
       "      <th>20</th>\n",
       "      <td>20</td>\n",
       "      <td>100017</td>\n",
       "      <td>MD Building Products 36 in. x 36 in. Cloverlea...</td>\n",
       "      <td>windows screens</td>\n",
       "      <td>2.33</td>\n",
       "      <td>The MD Building Products 36 in. x 36 in. x 1/5...</td>\n",
       "      <td>\\tUse to repair door or window screens, or add...</td>\n",
       "      <td>2</td>\n",
       "    </tr>\n",
       "    <tr>\n",
       "      <th>21</th>\n",
       "      <td>21</td>\n",
       "      <td>100019</td>\n",
       "      <td>House of Fara 8 Linear ft. MDF Overlapping Wai...</td>\n",
       "      <td>1x1 rail decorative wood</td>\n",
       "      <td>1.33</td>\n",
       "      <td>The House of Fara 8 Linear ft. primed MDF Over...</td>\n",
       "      <td>Application\\tWall\\n\\tMDF kit includes, 1-piece...</td>\n",
       "      <td>4</td>\n",
       "    </tr>\n",
       "    <tr>\n",
       "      <th>22</th>\n",
       "      <td>22</td>\n",
       "      <td>100019</td>\n",
       "      <td>House of Fara 8 Linear ft. MDF Overlapping Wai...</td>\n",
       "      <td>4*8 beadboard paneling</td>\n",
       "      <td>2.67</td>\n",
       "      <td>The House of Fara 8 Linear ft. primed MDF Over...</td>\n",
       "      <td>Application\\tWall\\n\\tMDF kit includes, 1-piece...</td>\n",
       "      <td>3</td>\n",
       "    </tr>\n",
       "    <tr>\n",
       "      <th>23</th>\n",
       "      <td>23</td>\n",
       "      <td>100019</td>\n",
       "      <td>House of Fara 8 Linear ft. MDF Overlapping Wai...</td>\n",
       "      <td>4x8wood paneling</td>\n",
       "      <td>2.33</td>\n",
       "      <td>The House of Fara 8 Linear ft. primed MDF Over...</td>\n",
       "      <td>Application\\tWall\\n\\tMDF kit includes, 1-piece...</td>\n",
       "      <td>2</td>\n",
       "    </tr>\n",
       "    <tr>\n",
       "      <th>24</th>\n",
       "      <td>24</td>\n",
       "      <td>100019</td>\n",
       "      <td>House of Fara 8 Linear ft. MDF Overlapping Wai...</td>\n",
       "      <td>MDF 4x8</td>\n",
       "      <td>1.33</td>\n",
       "      <td>The House of Fara 8 Linear ft. primed MDF Over...</td>\n",
       "      <td>Application\\tWall\\n\\tMDF kit includes, 1-piece...</td>\n",
       "      <td>2</td>\n",
       "    </tr>\n",
       "    <tr>\n",
       "      <th>25</th>\n",
       "      <td>25</td>\n",
       "      <td>100019</td>\n",
       "      <td>House of Fara 8 Linear ft. MDF Overlapping Wai...</td>\n",
       "      <td>wainscot chair rail</td>\n",
       "      <td>2.33</td>\n",
       "      <td>The House of Fara 8 Linear ft. primed MDF Over...</td>\n",
       "      <td>Application\\tWall\\n\\tMDF kit includes, 1-piece...</td>\n",
       "      <td>3</td>\n",
       "    </tr>\n",
       "    <tr>\n",
       "      <th>26</th>\n",
       "      <td>26</td>\n",
       "      <td>100019</td>\n",
       "      <td>House of Fara 8 Linear ft. MDF Overlapping Wai...</td>\n",
       "      <td>wainscot plank paneling</td>\n",
       "      <td>2.33</td>\n",
       "      <td>The House of Fara 8 Linear ft. primed MDF Over...</td>\n",
       "      <td>Application\\tWall\\n\\tMDF kit includes, 1-piece...</td>\n",
       "      <td>3</td>\n",
       "    </tr>\n",
       "    <tr>\n",
       "      <th>27</th>\n",
       "      <td>27</td>\n",
       "      <td>100021</td>\n",
       "      <td>1804 Dual Spray Half Pattern 4 in Pop-Up Spray...</td>\n",
       "      <td>lawn sprkinler</td>\n",
       "      <td>2.00</td>\n",
       "      <td>Installed in parks and backyards across the gl...</td>\n",
       "      <td>Assembled Depth (in.)\\t6 in\\nAssembled Height ...</td>\n",
       "      <td>2</td>\n",
       "    </tr>\n",
       "    <tr>\n",
       "      <th>28</th>\n",
       "      <td>28</td>\n",
       "      <td>100021</td>\n",
       "      <td>1804 Dual Spray Half Pattern 4 in Pop-Up Spray...</td>\n",
       "      <td>rainbird sprinkler</td>\n",
       "      <td>2.33</td>\n",
       "      <td>Installed in parks and backyards across the gl...</td>\n",
       "      <td>Assembled Depth (in.)\\t6 in\\nAssembled Height ...</td>\n",
       "      <td>2</td>\n",
       "    </tr>\n",
       "    <tr>\n",
       "      <th>29</th>\n",
       "      <td>29</td>\n",
       "      <td>100022</td>\n",
       "      <td>Samsung 4.2 cu. ft. Front Load Washer with Ste...</td>\n",
       "      <td>PLATFORM FOR WASHERS</td>\n",
       "      <td>2.67</td>\n",
       "      <td>The Samsung 4.2 cu. ft. Front Load Washer with...</td>\n",
       "      <td>Amperage (amps)\\t15\\nAppliance Type\\tFront Loa...</td>\n",
       "      <td>3</td>\n",
       "    </tr>\n",
       "    <tr>\n",
       "      <th>...</th>\n",
       "      <td>...</td>\n",
       "      <td>...</td>\n",
       "      <td>...</td>\n",
       "      <td>...</td>\n",
       "      <td>...</td>\n",
       "      <td>...</td>\n",
       "      <td>...</td>\n",
       "      <td>...</td>\n",
       "    </tr>\n",
       "    <tr>\n",
       "      <th>74037</th>\n",
       "      <td>74037</td>\n",
       "      <td>206588</td>\n",
       "      <td>Cake Boss Decorating Tools 3-Piece Plastic Ici...</td>\n",
       "      <td>plastic 3 piece nativity set</td>\n",
       "      <td>1.67</td>\n",
       "      <td>Have the perfect trio of decorating bags with ...</td>\n",
       "      <td>\\tEach icing bag is made from sturdy polyureth...</td>\n",
       "      <td>5</td>\n",
       "    </tr>\n",
       "    <tr>\n",
       "      <th>74038</th>\n",
       "      <td>74038</td>\n",
       "      <td>206589</td>\n",
       "      <td>Husky Universal Pass-Through Mechanics Tool Se...</td>\n",
       "      <td>pass through curtain rings</td>\n",
       "      <td>1.33</td>\n",
       "      <td>The Husky 126-Piece Pass-Through Socket and Ra...</td>\n",
       "      <td>Assembled Depth (in.)\\t18.90 in\\nAssembled Hei...</td>\n",
       "      <td>4</td>\n",
       "    </tr>\n",
       "    <tr>\n",
       "      <th>74039</th>\n",
       "      <td>74039</td>\n",
       "      <td>206590</td>\n",
       "      <td>Crosley LaFayette Low Profile TV Stand in Black</td>\n",
       "      <td>crosley lafayette kf30024bwh</td>\n",
       "      <td>2.33</td>\n",
       "      <td>Enhance your living space with Crosley's impec...</td>\n",
       "      <td>Adjustable Shelves\\tYes\\nAssembled Depth (in.)...</td>\n",
       "      <td>3</td>\n",
       "    </tr>\n",
       "    <tr>\n",
       "      <th>74040</th>\n",
       "      <td>74040</td>\n",
       "      <td>206593</td>\n",
       "      <td>Rust-Oleum Automotive 8 oz. Special White Auto...</td>\n",
       "      <td>dremel auto rust</td>\n",
       "      <td>2.33</td>\n",
       "      <td>Rust-Oleum Automotive Touch-Up aerosols are id...</td>\n",
       "      <td>Application Method\\tSpray\\n\\tMatches OEM finis...</td>\n",
       "      <td>3</td>\n",
       "    </tr>\n",
       "    <tr>\n",
       "      <th>74041</th>\n",
       "      <td>74041</td>\n",
       "      <td>206594</td>\n",
       "      <td>Foremost Tides 33 in. to 35 in. x 65 in. Frame...</td>\n",
       "      <td>privacy glass pivot doors</td>\n",
       "      <td>2.67</td>\n",
       "      <td>Whether you are designing a new bathroom, or r...</td>\n",
       "      <td>\\tConstructed from 1/4 in. tempered safety gla...</td>\n",
       "      <td>4</td>\n",
       "    </tr>\n",
       "    <tr>\n",
       "      <th>74042</th>\n",
       "      <td>74042</td>\n",
       "      <td>206596</td>\n",
       "      <td>Bali Cut-to-Size Crown 3.5 in. PVC Louver Set ...</td>\n",
       "      <td>alabaster blinds 39x72 alvin</td>\n",
       "      <td>1.67</td>\n",
       "      <td>Bali Cut-to-Size Vertical Blinds offer beautif...</td>\n",
       "      <td>Actual Blind/Shade Width (In.)\\t3.5\\nArched\\tN...</td>\n",
       "      <td>4</td>\n",
       "    </tr>\n",
       "    <tr>\n",
       "      <th>74043</th>\n",
       "      <td>74043</td>\n",
       "      <td>206597</td>\n",
       "      <td>Home Fashion Technologies 14 in. x 59 in. Soli...</td>\n",
       "      <td>exterior shutter with movable louvers</td>\n",
       "      <td>3.00</td>\n",
       "      <td>Instantly add value and style to your home wit...</td>\n",
       "      <td>\\tAvailable in 11 heights\\n\\tAvailable in prim...</td>\n",
       "      <td>5</td>\n",
       "    </tr>\n",
       "    <tr>\n",
       "      <th>74044</th>\n",
       "      <td>74044</td>\n",
       "      <td>206598</td>\n",
       "      <td>Newport Coastal Photo Eye Replacement</td>\n",
       "      <td>lightsensor</td>\n",
       "      <td>2.67</td>\n",
       "      <td>This Newport Coastal Photo Eye Replacement con...</td>\n",
       "      <td>\\tAnti-rust, anti-chip plastic\\n\\tTurns your o...</td>\n",
       "      <td>1</td>\n",
       "    </tr>\n",
       "    <tr>\n",
       "      <th>74045</th>\n",
       "      <td>74045</td>\n",
       "      <td>206599</td>\n",
       "      <td>HYDRONIX 12 in. x 2-1/2 in. Inline Coconut Car...</td>\n",
       "      <td>bypass 12 water filter</td>\n",
       "      <td>1.33</td>\n",
       "      <td>If you already have an inline filter and want ...</td>\n",
       "      <td></td>\n",
       "      <td>4</td>\n",
       "    </tr>\n",
       "    <tr>\n",
       "      <th>74046</th>\n",
       "      <td>74046</td>\n",
       "      <td>206600</td>\n",
       "      <td>Worx 12 in. Ni-cd 24-Volt 3-5 Hour Charger Gra...</td>\n",
       "      <td>ni-2.4v</td>\n",
       "      <td>2.00</td>\n",
       "      <td>Flexibility at its best. The Worx 2-in-1 12 Gr...</td>\n",
       "      <td>Antivibration\\tNo\\nAssembled Depth (in.)\\t26.0...</td>\n",
       "      <td>1</td>\n",
       "    </tr>\n",
       "    <tr>\n",
       "      <th>74047</th>\n",
       "      <td>74047</td>\n",
       "      <td>206601</td>\n",
       "      <td>3M Tekk Protection White Vented Hard Hat with ...</td>\n",
       "      <td>hard hat with mining</td>\n",
       "      <td>1.67</td>\n",
       "      <td>3M TEKK Protection Vented Pro Ratchet Hard Hat...</td>\n",
       "      <td>Adjustable\\tYes\\n\\tWhite\\n\\tStriking design on...</td>\n",
       "      <td>4</td>\n",
       "    </tr>\n",
       "    <tr>\n",
       "      <th>74048</th>\n",
       "      <td>74048</td>\n",
       "      <td>206602</td>\n",
       "      <td>Hy-Lite Glass Block Fixed Vinyl Windows Driftw...</td>\n",
       "      <td>replace a broken glass in a vinyl window</td>\n",
       "      <td>2.00</td>\n",
       "      <td>Excellent privacy and decorative solution for ...</td>\n",
       "      <td>\\tEasier to install than the traditional mason...</td>\n",
       "      <td>8</td>\n",
       "    </tr>\n",
       "    <tr>\n",
       "      <th>74049</th>\n",
       "      <td>74049</td>\n",
       "      <td>206603</td>\n",
       "      <td>Westinghouse 3 ft. Oil Rubbed Bronze Beaded Ch...</td>\n",
       "      <td>ceiling fan with chain cord</td>\n",
       "      <td>1.00</td>\n",
       "      <td>This Westinghouse Lighting Oil Rubbed Bronze B...</td>\n",
       "      <td>\\tReplacement for broken or outdated pull chai...</td>\n",
       "      <td>5</td>\n",
       "    </tr>\n",
       "    <tr>\n",
       "      <th>74050</th>\n",
       "      <td>74050</td>\n",
       "      <td>206606</td>\n",
       "      <td>BEHR Premium Plus #ICC-101 Florentine Clay Zer...</td>\n",
       "      <td>florentine clay</td>\n",
       "      <td>2.33</td>\n",
       "      <td>BEHR Premium Plus Zero VOC, Self-Priming Inter...</td>\n",
       "      <td>\\tIdeal for family rooms, living rooms, dining...</td>\n",
       "      <td>2</td>\n",
       "    </tr>\n",
       "    <tr>\n",
       "      <th>74051</th>\n",
       "      <td>74051</td>\n",
       "      <td>206607</td>\n",
       "      <td>Home Legend Palace Oak Light 3/4 in. Thick x 3...</td>\n",
       "      <td>trim a home lights</td>\n",
       "      <td>2.00</td>\n",
       "      <td>Quarter round is typically placed in front of ...</td>\n",
       "      <td>\\tPalace Oak Light Laminate Molding\\n\\t3/4 in....</td>\n",
       "      <td>4</td>\n",
       "    </tr>\n",
       "    <tr>\n",
       "      <th>74052</th>\n",
       "      <td>74052</td>\n",
       "      <td>206609</td>\n",
       "      <td>Whitehaus Collection Isabella Wall-Mounted Bat...</td>\n",
       "      <td>whitehaus bathroom sinl</td>\n",
       "      <td>2.33</td>\n",
       "      <td>Beautify your bathroom or powder room with a W...</td>\n",
       "      <td>Basin Depth (in.)\\t5.5\\nBasin Length (in.)\\t8\\...</td>\n",
       "      <td>3</td>\n",
       "    </tr>\n",
       "    <tr>\n",
       "      <th>74053</th>\n",
       "      <td>74053</td>\n",
       "      <td>206610</td>\n",
       "      <td>Champion Power Equipment 6.5 HP Gas-Powered 3 ...</td>\n",
       "      <td>6.5 hp gas generator</td>\n",
       "      <td>2.33</td>\n",
       "      <td>The Champion Power Equipment 3 in. semi-trash ...</td>\n",
       "      <td>Adjustable Speed\\tNo\\n\\tSilicon carbide shaft ...</td>\n",
       "      <td>4</td>\n",
       "    </tr>\n",
       "    <tr>\n",
       "      <th>74054</th>\n",
       "      <td>74054</td>\n",
       "      <td>206613</td>\n",
       "      <td>Everbilt 4 in. White Wall Guard</td>\n",
       "      <td>splash guard for  wall</td>\n",
       "      <td>2.00</td>\n",
       "      <td>The Everbilt 4 in. Wall Guard helps prevent da...</td>\n",
       "      <td>Builders Hardware Product Type\\tDoor Stop\\n\\tM...</td>\n",
       "      <td>4</td>\n",
       "    </tr>\n",
       "    <tr>\n",
       "      <th>74055</th>\n",
       "      <td>74055</td>\n",
       "      <td>206614</td>\n",
       "      <td>Daltile Villa Valleta Calais Springs 18 in. x ...</td>\n",
       "      <td>spicewood springs floor tile</td>\n",
       "      <td>1.67</td>\n",
       "      <td>This dal-tile villa valleta calais springs por...</td>\n",
       "      <td>Approximate Tile Size\\t18x18\\nBreak Strength (...</td>\n",
       "      <td>4</td>\n",
       "    </tr>\n",
       "    <tr>\n",
       "      <th>74056</th>\n",
       "      <td>74056</td>\n",
       "      <td>206619</td>\n",
       "      <td>Home Styles Stone Harbor 51 in. Round 7-Piece ...</td>\n",
       "      <td>laguna porcelin tile</td>\n",
       "      <td>2.00</td>\n",
       "      <td>Stone Harbor 7-Piece Dining Set includes Large...</td>\n",
       "      <td>Assembled Depth (in.)\\t51.25 in\\nAssembled Hei...</td>\n",
       "      <td>3</td>\n",
       "    </tr>\n",
       "    <tr>\n",
       "      <th>74057</th>\n",
       "      <td>74057</td>\n",
       "      <td>206621</td>\n",
       "      <td>Crown Bolt M6-32 x 90 mm. Internal Hex Socket ...</td>\n",
       "      <td>m6 screw 90mm</td>\n",
       "      <td>2.67</td>\n",
       "      <td>Crown Bolt's metric socket cap screws are idea...</td>\n",
       "      <td>Assembled Depth (in.)\\t1.0 in\\nAssembled Heigh...</td>\n",
       "      <td>3</td>\n",
       "    </tr>\n",
       "    <tr>\n",
       "      <th>74058</th>\n",
       "      <td>74058</td>\n",
       "      <td>206627</td>\n",
       "      <td>25 in. Stainless Tip-Out Sink Front Tray</td>\n",
       "      <td>sink tip-out tray</td>\n",
       "      <td>3.00</td>\n",
       "      <td>Add a little luxury to otherwise wasted space ...</td>\n",
       "      <td></td>\n",
       "      <td>3</td>\n",
       "    </tr>\n",
       "    <tr>\n",
       "      <th>74059</th>\n",
       "      <td>74059</td>\n",
       "      <td>206631</td>\n",
       "      <td>Masonite New Haven Three Quarter Oval Lite Pri...</td>\n",
       "      <td>fiberglass front doors by masonite</td>\n",
       "      <td>3.00</td>\n",
       "      <td>Create an inviting, stylish entryway with the ...</td>\n",
       "      <td>Assembled Depth (in.)\\t4.5625 in\\nAssembled He...</td>\n",
       "      <td>5</td>\n",
       "    </tr>\n",
       "    <tr>\n",
       "      <th>74060</th>\n",
       "      <td>74060</td>\n",
       "      <td>206632</td>\n",
       "      <td>Lilly Miller UltraGreen 1 Gal. Vitamin B-1 Pla...</td>\n",
       "      <td>starter fertillzer</td>\n",
       "      <td>2.00</td>\n",
       "      <td>Lilly Miller UltraGreen Vitamin B-1 Plant Star...</td>\n",
       "      <td>\\tReduces transplant shock\\n\\tContains vitamin...</td>\n",
       "      <td>2</td>\n",
       "    </tr>\n",
       "    <tr>\n",
       "      <th>74061</th>\n",
       "      <td>74061</td>\n",
       "      <td>206637</td>\n",
       "      <td>Schluter Rondec Stainless Steel 3/8 in. x 1 in...</td>\n",
       "      <td>rondec stainless steel 3/8 edge protection</td>\n",
       "      <td>3.00</td>\n",
       "      <td>The EV/RO100E is a prefabricated corner for Ro...</td>\n",
       "      <td>\\tMade of solid stainless steel\\n\\tAccommodate...</td>\n",
       "      <td>6</td>\n",
       "    </tr>\n",
       "    <tr>\n",
       "      <th>74062</th>\n",
       "      <td>74062</td>\n",
       "      <td>206638</td>\n",
       "      <td>Atlantic Windowpane 576 CD or 192 DVD Blu-Ray ...</td>\n",
       "      <td>tv riser glass</td>\n",
       "      <td>1.00</td>\n",
       "      <td>Atlantic, Inc. 94835722 Uniquely designed for ...</td>\n",
       "      <td>Assembled Depth (in.)\\t9.5 in\\nAssembled Heigh...</td>\n",
       "      <td>3</td>\n",
       "    </tr>\n",
       "    <tr>\n",
       "      <th>74063</th>\n",
       "      <td>74063</td>\n",
       "      <td>206639</td>\n",
       "      <td>Philips 40-Watt Halogen R20 Flood Light Bulb (...</td>\n",
       "      <td>r20 halogen light</td>\n",
       "      <td>3.00</td>\n",
       "      <td>Philips Energy Advantage lamps use less energy...</td>\n",
       "      <td>Actual Color Temperature (K)\\t2700\\nAverage Li...</td>\n",
       "      <td>3</td>\n",
       "    </tr>\n",
       "    <tr>\n",
       "      <th>74064</th>\n",
       "      <td>74064</td>\n",
       "      <td>206641</td>\n",
       "      <td>Schlage Camelot In-Active Aged Bronze Handlese...</td>\n",
       "      <td>schlage lock siena half dummy knob with</td>\n",
       "      <td>2.33</td>\n",
       "      <td>The Schlage Camelot In-Active Aged Bronze Hand...</td>\n",
       "      <td>Application Type\\tEntry\\nAssembled Depth (in.)...</td>\n",
       "      <td>7</td>\n",
       "    </tr>\n",
       "    <tr>\n",
       "      <th>74065</th>\n",
       "      <td>74065</td>\n",
       "      <td>206648</td>\n",
       "      <td>Plastec 11 in. x 24 in. Rose Garden Wall Decor...</td>\n",
       "      <td>zen garden  decor</td>\n",
       "      <td>3.00</td>\n",
       "      <td>The Rose Garden is inspired by the popular ear...</td>\n",
       "      <td>\\tIndoor and outdoor use\\n\\tFinished in Dark B...</td>\n",
       "      <td>3</td>\n",
       "    </tr>\n",
       "    <tr>\n",
       "      <th>74066</th>\n",
       "      <td>74066</td>\n",
       "      <td>206650</td>\n",
       "      <td>LICHTENBERG Pool Blue No. 918 Millennial Ryan ...</td>\n",
       "      <td>fine sheer curtain 63 inches</td>\n",
       "      <td>2.33</td>\n",
       "      <td>No. 918 Millennial Ryan heathered texture semi...</td>\n",
       "      <td>Assembled Depth (in.)\\t.1 in\\nAssembled Height...</td>\n",
       "      <td>5</td>\n",
       "    </tr>\n",
       "  </tbody>\n",
       "</table>\n",
       "<p>74067 rows × 8 columns</p>\n",
       "</div>"
      ],
      "text/plain": [
       "       index  product_uid                                      product_title  \\\n",
       "0          0       100001                  Simpson Strong-Tie 12-Gauge Angle   \n",
       "1          1       100001                  Simpson Strong-Tie 12-Gauge Angle   \n",
       "2          2       100002  BEHR Premium Textured DeckOver 1-gal. #SC-141 ...   \n",
       "3          3       100005  Delta Vero 1-Handle Shower Only Faucet Trim Ki...   \n",
       "4          4       100005  Delta Vero 1-Handle Shower Only Faucet Trim Ki...   \n",
       "5          5       100006  Whirlpool 1.9 cu. ft. Over the Range Convectio...   \n",
       "6          6       100006  Whirlpool 1.9 cu. ft. Over the Range Convectio...   \n",
       "7          7       100006  Whirlpool 1.9 cu. ft. Over the Range Convectio...   \n",
       "8          8       100007  Lithonia Lighting Quantum 2-Light Black LED Em...   \n",
       "9          9       100009  House of Fara 3/4 in. x 3 in. x 8 ft. MDF Flut...   \n",
       "10        10       100010       Valley View Industries Metal Stakes (4-Pack)   \n",
       "11        11       100011  Toro Personal Pace Recycler 22 in. Variable Sp...   \n",
       "12        12       100011  Toro Personal Pace Recycler 22 in. Variable Sp...   \n",
       "13        13       100011  Toro Personal Pace Recycler 22 in. Variable Sp...   \n",
       "14        14       100012  Hampton Bay Caramel Simple Weave Bamboo Rollup...   \n",
       "15        15       100013  InSinkErator SinkTop Switch Single Outlet for ...   \n",
       "16        16       100016  Sunjoy Calais 8 ft. x 5 ft. x 8 ft. Steel Tile...   \n",
       "17        17       100017  MD Building Products 36 in. x 36 in. Cloverlea...   \n",
       "18        18       100017  MD Building Products 36 in. x 36 in. Cloverlea...   \n",
       "19        19       100017  MD Building Products 36 in. x 36 in. Cloverlea...   \n",
       "20        20       100017  MD Building Products 36 in. x 36 in. Cloverlea...   \n",
       "21        21       100019  House of Fara 8 Linear ft. MDF Overlapping Wai...   \n",
       "22        22       100019  House of Fara 8 Linear ft. MDF Overlapping Wai...   \n",
       "23        23       100019  House of Fara 8 Linear ft. MDF Overlapping Wai...   \n",
       "24        24       100019  House of Fara 8 Linear ft. MDF Overlapping Wai...   \n",
       "25        25       100019  House of Fara 8 Linear ft. MDF Overlapping Wai...   \n",
       "26        26       100019  House of Fara 8 Linear ft. MDF Overlapping Wai...   \n",
       "27        27       100021  1804 Dual Spray Half Pattern 4 in Pop-Up Spray...   \n",
       "28        28       100021  1804 Dual Spray Half Pattern 4 in Pop-Up Spray...   \n",
       "29        29       100022  Samsung 4.2 cu. ft. Front Load Washer with Ste...   \n",
       "...      ...          ...                                                ...   \n",
       "74037  74037       206588  Cake Boss Decorating Tools 3-Piece Plastic Ici...   \n",
       "74038  74038       206589  Husky Universal Pass-Through Mechanics Tool Se...   \n",
       "74039  74039       206590    Crosley LaFayette Low Profile TV Stand in Black   \n",
       "74040  74040       206593  Rust-Oleum Automotive 8 oz. Special White Auto...   \n",
       "74041  74041       206594  Foremost Tides 33 in. to 35 in. x 65 in. Frame...   \n",
       "74042  74042       206596  Bali Cut-to-Size Crown 3.5 in. PVC Louver Set ...   \n",
       "74043  74043       206597  Home Fashion Technologies 14 in. x 59 in. Soli...   \n",
       "74044  74044       206598              Newport Coastal Photo Eye Replacement   \n",
       "74045  74045       206599  HYDRONIX 12 in. x 2-1/2 in. Inline Coconut Car...   \n",
       "74046  74046       206600  Worx 12 in. Ni-cd 24-Volt 3-5 Hour Charger Gra...   \n",
       "74047  74047       206601  3M Tekk Protection White Vented Hard Hat with ...   \n",
       "74048  74048       206602  Hy-Lite Glass Block Fixed Vinyl Windows Driftw...   \n",
       "74049  74049       206603  Westinghouse 3 ft. Oil Rubbed Bronze Beaded Ch...   \n",
       "74050  74050       206606  BEHR Premium Plus #ICC-101 Florentine Clay Zer...   \n",
       "74051  74051       206607  Home Legend Palace Oak Light 3/4 in. Thick x 3...   \n",
       "74052  74052       206609  Whitehaus Collection Isabella Wall-Mounted Bat...   \n",
       "74053  74053       206610  Champion Power Equipment 6.5 HP Gas-Powered 3 ...   \n",
       "74054  74054       206613                    Everbilt 4 in. White Wall Guard   \n",
       "74055  74055       206614  Daltile Villa Valleta Calais Springs 18 in. x ...   \n",
       "74056  74056       206619  Home Styles Stone Harbor 51 in. Round 7-Piece ...   \n",
       "74057  74057       206621  Crown Bolt M6-32 x 90 mm. Internal Hex Socket ...   \n",
       "74058  74058       206627           25 in. Stainless Tip-Out Sink Front Tray   \n",
       "74059  74059       206631  Masonite New Haven Three Quarter Oval Lite Pri...   \n",
       "74060  74060       206632  Lilly Miller UltraGreen 1 Gal. Vitamin B-1 Pla...   \n",
       "74061  74061       206637  Schluter Rondec Stainless Steel 3/8 in. x 1 in...   \n",
       "74062  74062       206638  Atlantic Windowpane 576 CD or 192 DVD Blu-Ray ...   \n",
       "74063  74063       206639  Philips 40-Watt Halogen R20 Flood Light Bulb (...   \n",
       "74064  74064       206641  Schlage Camelot In-Active Aged Bronze Handlese...   \n",
       "74065  74065       206648  Plastec 11 in. x 24 in. Rose Garden Wall Decor...   \n",
       "74066  74066       206650  LICHTENBERG Pool Blue No. 918 Millennial Ryan ...   \n",
       "\n",
       "                                      search_term  relevance  \\\n",
       "0                                   angle bracket       3.00   \n",
       "1                                       l bracket       2.50   \n",
       "2                                       deck over       3.00   \n",
       "3                                rain shower head       2.33   \n",
       "4                              shower only faucet       2.67   \n",
       "5                                  convection otr       3.00   \n",
       "6                            microwave over stove       2.67   \n",
       "7                                      microwaves       3.00   \n",
       "8                                 emergency light       2.67   \n",
       "9                                         mdf 3/4       3.00   \n",
       "10                                   steele stake       2.67   \n",
       "11                 briggs and stratton lawn mower       3.00   \n",
       "12                                       gas mowe       3.00   \n",
       "13                                    honda mower       2.00   \n",
       "14             hampton bay chestnut pull up shade       2.67   \n",
       "15                                       disposer       2.67   \n",
       "16                                   grill gazebo       3.00   \n",
       "17                                    door guards       1.00   \n",
       "18                         metal plate cover gcfi       1.67   \n",
       "19                                 radiator grate       2.33   \n",
       "20                                windows screens       2.33   \n",
       "21                       1x1 rail decorative wood       1.33   \n",
       "22                         4*8 beadboard paneling       2.67   \n",
       "23                               4x8wood paneling       2.33   \n",
       "24                                        MDF 4x8       1.33   \n",
       "25                            wainscot chair rail       2.33   \n",
       "26                        wainscot plank paneling       2.33   \n",
       "27                                 lawn sprkinler       2.00   \n",
       "28                             rainbird sprinkler       2.33   \n",
       "29                           PLATFORM FOR WASHERS       2.67   \n",
       "...                                           ...        ...   \n",
       "74037                plastic 3 piece nativity set       1.67   \n",
       "74038                  pass through curtain rings       1.33   \n",
       "74039                crosley lafayette kf30024bwh       2.33   \n",
       "74040                            dremel auto rust       2.33   \n",
       "74041                   privacy glass pivot doors       2.67   \n",
       "74042                alabaster blinds 39x72 alvin       1.67   \n",
       "74043       exterior shutter with movable louvers       3.00   \n",
       "74044                                 lightsensor       2.67   \n",
       "74045                      bypass 12 water filter       1.33   \n",
       "74046                                     ni-2.4v       2.00   \n",
       "74047                        hard hat with mining       1.67   \n",
       "74048    replace a broken glass in a vinyl window       2.00   \n",
       "74049                 ceiling fan with chain cord       1.00   \n",
       "74050                             florentine clay       2.33   \n",
       "74051                          trim a home lights       2.00   \n",
       "74052                     whitehaus bathroom sinl       2.33   \n",
       "74053                        6.5 hp gas generator       2.33   \n",
       "74054                      splash guard for  wall       2.00   \n",
       "74055                spicewood springs floor tile       1.67   \n",
       "74056                        laguna porcelin tile       2.00   \n",
       "74057                               m6 screw 90mm       2.67   \n",
       "74058                           sink tip-out tray       3.00   \n",
       "74059          fiberglass front doors by masonite       3.00   \n",
       "74060                          starter fertillzer       2.00   \n",
       "74061  rondec stainless steel 3/8 edge protection       3.00   \n",
       "74062                              tv riser glass       1.00   \n",
       "74063                           r20 halogen light       3.00   \n",
       "74064     schlage lock siena half dummy knob with       2.33   \n",
       "74065                           zen garden  decor       3.00   \n",
       "74066                fine sheer curtain 63 inches       2.33   \n",
       "\n",
       "                                     product_description  \\\n",
       "0      Not only do angles make joints stronger, they ...   \n",
       "1      Not only do angles make joints stronger, they ...   \n",
       "2      BEHR Premium Textured DECKOVER is an innovativ...   \n",
       "3      Update your bathroom with the Delta Vero Singl...   \n",
       "4      Update your bathroom with the Delta Vero Singl...   \n",
       "5      Achieving delicious results is almost effortle...   \n",
       "6      Achieving delicious results is almost effortle...   \n",
       "7      Achieving delicious results is almost effortle...   \n",
       "8      The Quantum Adjustable 2-Light LED Black Emerg...   \n",
       "9      Get the House of Fara 3/4 in. x 3 in. x 8 ft. ...   \n",
       "10     Valley View Industries Metal Stakes (4-Pack) a...   \n",
       "11     Recycler 22 in. Personal Pace Variable Speed S...   \n",
       "12     Recycler 22 in. Personal Pace Variable Speed S...   \n",
       "13     Recycler 22 in. Personal Pace Variable Speed S...   \n",
       "14     The 96 in. wide Caramel Simple Weave Rollup Ba...   \n",
       "15     The InSinkErator SinkTop Switch Single Outlet ...   \n",
       "16     Make grilling great with this handsome and fun...   \n",
       "17     The MD Building Products 36 in. x 36 in. x 1/5...   \n",
       "18     The MD Building Products 36 in. x 36 in. x 1/5...   \n",
       "19     The MD Building Products 36 in. x 36 in. x 1/5...   \n",
       "20     The MD Building Products 36 in. x 36 in. x 1/5...   \n",
       "21     The House of Fara 8 Linear ft. primed MDF Over...   \n",
       "22     The House of Fara 8 Linear ft. primed MDF Over...   \n",
       "23     The House of Fara 8 Linear ft. primed MDF Over...   \n",
       "24     The House of Fara 8 Linear ft. primed MDF Over...   \n",
       "25     The House of Fara 8 Linear ft. primed MDF Over...   \n",
       "26     The House of Fara 8 Linear ft. primed MDF Over...   \n",
       "27     Installed in parks and backyards across the gl...   \n",
       "28     Installed in parks and backyards across the gl...   \n",
       "29     The Samsung 4.2 cu. ft. Front Load Washer with...   \n",
       "...                                                  ...   \n",
       "74037  Have the perfect trio of decorating bags with ...   \n",
       "74038  The Husky 126-Piece Pass-Through Socket and Ra...   \n",
       "74039  Enhance your living space with Crosley's impec...   \n",
       "74040  Rust-Oleum Automotive Touch-Up aerosols are id...   \n",
       "74041  Whether you are designing a new bathroom, or r...   \n",
       "74042  Bali Cut-to-Size Vertical Blinds offer beautif...   \n",
       "74043  Instantly add value and style to your home wit...   \n",
       "74044  This Newport Coastal Photo Eye Replacement con...   \n",
       "74045  If you already have an inline filter and want ...   \n",
       "74046  Flexibility at its best. The Worx 2-in-1 12 Gr...   \n",
       "74047  3M TEKK Protection Vented Pro Ratchet Hard Hat...   \n",
       "74048  Excellent privacy and decorative solution for ...   \n",
       "74049  This Westinghouse Lighting Oil Rubbed Bronze B...   \n",
       "74050  BEHR Premium Plus Zero VOC, Self-Priming Inter...   \n",
       "74051  Quarter round is typically placed in front of ...   \n",
       "74052  Beautify your bathroom or powder room with a W...   \n",
       "74053  The Champion Power Equipment 3 in. semi-trash ...   \n",
       "74054  The Everbilt 4 in. Wall Guard helps prevent da...   \n",
       "74055  This dal-tile villa valleta calais springs por...   \n",
       "74056  Stone Harbor 7-Piece Dining Set includes Large...   \n",
       "74057  Crown Bolt's metric socket cap screws are idea...   \n",
       "74058  Add a little luxury to otherwise wasted space ...   \n",
       "74059  Create an inviting, stylish entryway with the ...   \n",
       "74060  Lilly Miller UltraGreen Vitamin B-1 Plant Star...   \n",
       "74061  The EV/RO100E is a prefabricated corner for Ro...   \n",
       "74062  Atlantic, Inc. 94835722 Uniquely designed for ...   \n",
       "74063  Philips Energy Advantage lamps use less energy...   \n",
       "74064  The Schlage Camelot In-Active Aged Bronze Hand...   \n",
       "74065  The Rose Garden is inspired by the popular ear...   \n",
       "74066  No. 918 Millennial Ryan heathered texture semi...   \n",
       "\n",
       "                                              Attributes  query_len  \n",
       "0      \\tVersatile connector for various 90Â° connect...          2  \n",
       "1      \\tVersatile connector for various 90Â° connect...          2  \n",
       "2      Application Method\\tBrush,Roller,Spray\\nAssemb...          2  \n",
       "3      Bath Faucet Type\\tCombo Tub and Shower\\nBuilt-...          3  \n",
       "4      Bath Faucet Type\\tCombo Tub and Shower\\nBuilt-...          3  \n",
       "5      Appliance Type\\tOver the Range Microwave\\nAsse...          2  \n",
       "6      Appliance Type\\tOver the Range Microwave\\nAsse...          3  \n",
       "7      Appliance Type\\tOver the Range Microwave\\nAsse...          1  \n",
       "8      Battery Power Type\\tNi-Cad\\nBattery Size\\t.Bui...          2  \n",
       "9      Application\\tDoor & Window\\n\\tMade of primed M...          2  \n",
       "10     Attachable\\tNo\\n\\tCan be used with all valley ...          2  \n",
       "11     Assembled Depth (in.)\\t59 in\\nAssembled Height...          5  \n",
       "12     Assembled Depth (in.)\\t59 in\\nAssembled Height...          2  \n",
       "13     Assembled Depth (in.)\\t59 in\\nAssembled Height...          2  \n",
       "14     Actual Blind/Shade Width (In.)\\t96\\nArched\\tNo...          6  \n",
       "15     \\tKit includes satin nickel, chrome and white ...          1  \n",
       "16     Approximate Depth (ft.)\\t8\\nApproximate Width ...          2  \n",
       "17     \\tUse to repair door or window screens, or add...          2  \n",
       "18     \\tUse to repair door or window screens, or add...          4  \n",
       "19     \\tUse to repair door or window screens, or add...          2  \n",
       "20     \\tUse to repair door or window screens, or add...          2  \n",
       "21     Application\\tWall\\n\\tMDF kit includes, 1-piece...          4  \n",
       "22     Application\\tWall\\n\\tMDF kit includes, 1-piece...          3  \n",
       "23     Application\\tWall\\n\\tMDF kit includes, 1-piece...          2  \n",
       "24     Application\\tWall\\n\\tMDF kit includes, 1-piece...          2  \n",
       "25     Application\\tWall\\n\\tMDF kit includes, 1-piece...          3  \n",
       "26     Application\\tWall\\n\\tMDF kit includes, 1-piece...          3  \n",
       "27     Assembled Depth (in.)\\t6 in\\nAssembled Height ...          2  \n",
       "28     Assembled Depth (in.)\\t6 in\\nAssembled Height ...          2  \n",
       "29     Amperage (amps)\\t15\\nAppliance Type\\tFront Loa...          3  \n",
       "...                                                  ...        ...  \n",
       "74037  \\tEach icing bag is made from sturdy polyureth...          5  \n",
       "74038  Assembled Depth (in.)\\t18.90 in\\nAssembled Hei...          4  \n",
       "74039  Adjustable Shelves\\tYes\\nAssembled Depth (in.)...          3  \n",
       "74040  Application Method\\tSpray\\n\\tMatches OEM finis...          3  \n",
       "74041  \\tConstructed from 1/4 in. tempered safety gla...          4  \n",
       "74042  Actual Blind/Shade Width (In.)\\t3.5\\nArched\\tN...          4  \n",
       "74043  \\tAvailable in 11 heights\\n\\tAvailable in prim...          5  \n",
       "74044  \\tAnti-rust, anti-chip plastic\\n\\tTurns your o...          1  \n",
       "74045                                                             4  \n",
       "74046  Antivibration\\tNo\\nAssembled Depth (in.)\\t26.0...          1  \n",
       "74047  Adjustable\\tYes\\n\\tWhite\\n\\tStriking design on...          4  \n",
       "74048  \\tEasier to install than the traditional mason...          8  \n",
       "74049  \\tReplacement for broken or outdated pull chai...          5  \n",
       "74050  \\tIdeal for family rooms, living rooms, dining...          2  \n",
       "74051  \\tPalace Oak Light Laminate Molding\\n\\t3/4 in....          4  \n",
       "74052  Basin Depth (in.)\\t5.5\\nBasin Length (in.)\\t8\\...          3  \n",
       "74053  Adjustable Speed\\tNo\\n\\tSilicon carbide shaft ...          4  \n",
       "74054  Builders Hardware Product Type\\tDoor Stop\\n\\tM...          4  \n",
       "74055  Approximate Tile Size\\t18x18\\nBreak Strength (...          4  \n",
       "74056  Assembled Depth (in.)\\t51.25 in\\nAssembled Hei...          3  \n",
       "74057  Assembled Depth (in.)\\t1.0 in\\nAssembled Heigh...          3  \n",
       "74058                                                             3  \n",
       "74059  Assembled Depth (in.)\\t4.5625 in\\nAssembled He...          5  \n",
       "74060  \\tReduces transplant shock\\n\\tContains vitamin...          2  \n",
       "74061  \\tMade of solid stainless steel\\n\\tAccommodate...          6  \n",
       "74062  Assembled Depth (in.)\\t9.5 in\\nAssembled Heigh...          3  \n",
       "74063  Actual Color Temperature (K)\\t2700\\nAverage Li...          3  \n",
       "74064  Application Type\\tEntry\\nAssembled Depth (in.)...          7  \n",
       "74065  \\tIndoor and outdoor use\\n\\tFinished in Dark B...          3  \n",
       "74066  Assembled Depth (in.)\\t.1 in\\nAssembled Height...          5  \n",
       "\n",
       "[74067 rows x 8 columns]"
      ]
     },
     "execution_count": 76,
     "metadata": {},
     "output_type": "execute_result"
    }
   ],
   "source": [
    "df_train"
   ]
  },
  {
   "cell_type": "code",
   "execution_count": null,
   "metadata": {},
   "outputs": [],
   "source": []
  }
 ],
 "metadata": {
  "kernelspec": {
   "display_name": "Python [default]",
   "language": "python",
   "name": "python3"
  },
  "language_info": {
   "codemirror_mode": {
    "name": "ipython",
    "version": 3
   },
   "file_extension": ".py",
   "mimetype": "text/x-python",
   "name": "python",
   "nbconvert_exporter": "python",
   "pygments_lexer": "ipython3",
   "version": "3.6.5"
  }
 },
 "nbformat": 4,
 "nbformat_minor": 2
}
