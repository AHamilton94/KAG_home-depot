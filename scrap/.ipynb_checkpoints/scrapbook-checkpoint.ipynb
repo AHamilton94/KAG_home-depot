{
 "cells": [
  {
   "cell_type": "markdown",
   "metadata": {
    "nbpresent": {
     "id": "7802ac24-57bb-4d78-b491-78a3a4d3a0f3"
    }
   },
   "source": [
    "# Scrapbook for Home-depot Question"
   ]
  },
  {
   "cell_type": "markdown",
   "metadata": {
    "nbpresent": {
     "id": "8cb4a814-cc92-4e42-b752-7ac739806d6e"
    }
   },
   "source": [
    "## Imports"
   ]
  },
  {
   "cell_type": "code",
   "execution_count": 1,
   "metadata": {
    "nbpresent": {
     "id": "b1471da9-97a0-44f4-a77d-e6cbd2242e10"
    }
   },
   "outputs": [],
   "source": [
    "# Data Wrangling\n",
    "import numpy as np\n",
    "import pandas as pd"
   ]
  },
  {
   "cell_type": "code",
   "execution_count": 2,
   "metadata": {
    "nbpresent": {
     "id": "a038aab1-1c3d-4f2b-a464-021f7f5934d9"
    }
   },
   "outputs": [],
   "source": [
    "# Plotting\n",
    "import matplotlib.pyplot as plt\n",
    "import seaborn as sns\n",
    "sns.set_style(\"whitegrid\")\n",
    "%matplotlib inline"
   ]
  },
  {
   "cell_type": "code",
   "execution_count": 3,
   "metadata": {
    "nbpresent": {
     "id": "6690c229-a167-4982-a228-0b9b296ba4e7"
    }
   },
   "outputs": [],
   "source": [
    "# Misc\n",
    "import os\n",
    "import re\n",
    "from pprint import pprint as pp\n",
    "import logging\n",
    "import zipfile"
   ]
  },
  {
   "cell_type": "code",
   "execution_count": 4,
   "metadata": {
    "nbpresent": {
     "id": "a8756eac-bf89-4b03-bd6b-d0983ca81b78"
    }
   },
   "outputs": [],
   "source": [
    "# Machine Learning\n",
    "# import nltk\n",
    "import spacy\n",
    "# nltk.download('punkt')\n",
    "# nltk.download('averaged_perceptron_tagger')\n",
    "# from nltk.stem.snowball import SnowballStemmer\n",
    "# from sklearn.ensemble import RandomForestRegressor, BaggingRegressor\n",
    "# from sklearn.model_selection import train_test_split\n",
    "# from sklearn import metrics"
   ]
  },
  {
   "cell_type": "markdown",
   "metadata": {
    "nbpresent": {
     "id": "8c6b2ec8-1650-4b34-beaa-4e7f5d45e8c6"
    }
   },
   "source": [
    "## Config"
   ]
  },
  {
   "cell_type": "code",
   "execution_count": 5,
   "metadata": {
    "nbpresent": {
     "id": "9f78f3aa-45d1-4f95-b507-fd314a39c48f"
    }
   },
   "outputs": [],
   "source": [
    "logging.basicConfig(filename='run.log', level=logging.INFO)"
   ]
  },
  {
   "cell_type": "code",
   "execution_count": 6,
   "metadata": {
    "nbpresent": {
     "id": "b7dbf73b-4f56-4728-a9d7-78457d588ae4"
    }
   },
   "outputs": [],
   "source": [
    "pd.options.mode.chained_assignment = None"
   ]
  },
  {
   "cell_type": "code",
   "execution_count": 7,
   "metadata": {
    "nbpresent": {
     "id": "899a7357-3f5e-4450-9282-28c0c56282a1"
    }
   },
   "outputs": [],
   "source": [
    "data_path = \"../data/\""
   ]
  },
  {
   "cell_type": "code",
   "execution_count": 8,
   "metadata": {
    "nbpresent": {
     "id": "254d0c9b-0059-4af2-a6cb-34973e54402e"
    }
   },
   "outputs": [],
   "source": [
    "nlp = spacy.load('en')"
   ]
  },
  {
   "cell_type": "code",
   "execution_count": 9,
   "metadata": {
    "nbpresent": {
     "id": "eef3d16e-83ba-4db8-a33e-90acf016cb07"
    }
   },
   "outputs": [],
   "source": [
    "nlp_tag = spacy.load('en', disable=['parser', 'ner'])"
   ]
  },
  {
   "cell_type": "markdown",
   "metadata": {
    "nbpresent": {
     "id": "55a84781-5195-4501-a5e0-5c58b98d47b0"
    }
   },
   "source": [
    "## Functions"
   ]
  },
  {
   "cell_type": "code",
   "execution_count": 10,
   "metadata": {
    "nbpresent": {
     "id": "03a4d556-558e-4362-89b1-d34d445f494d"
    }
   },
   "outputs": [],
   "source": [
    "def str_stemmer(s):\n",
    "    return \" \".join([stemmer.stem(word) for word in s.lower().split()])"
   ]
  },
  {
   "cell_type": "code",
   "execution_count": 11,
   "metadata": {
    "nbpresent": {
     "id": "56f9391a-9aae-4a54-b928-285f00bb2dda"
    }
   },
   "outputs": [],
   "source": [
    "def str_common_word(str1, str2):\n",
    "    return sum(int(str2.find(word)>=0) for word in str1.split())"
   ]
  },
  {
   "cell_type": "code",
   "execution_count": 12,
   "metadata": {
    "nbpresent": {
     "id": "0bb41541-71ae-4c54-8c8c-383bd8b337c9"
    }
   },
   "outputs": [],
   "source": [
    "def process_data(df):\n",
    "    df['product_title'] = df['product_title'].apply(lambda x: str_stemmer(x))\n",
    "    df['search_term'] = df['search_term'].apply(lambda x: str_stemmer(x))\n",
    "    df['product_description'] = df['product_description'].apply(lambda x: str_stemmer(x))\n",
    "    df['query_len'] = df['search_term'].apply(lambda x: len(x.split()))\n",
    "    df['product_info'] = df['search_term']+\"\\t\"+df['product_title']+\"\\t\"+df['product_description']\n",
    "    df['word_in_title'] = df['product_info'].map(lambda x:str_common_word(x.split('\\t')[0],x.split('\\t')[1]))\n",
    "    df['word_in_description'] = df['product_info'].map(lambda x:str_common_word(x.split('\\t')[0],x.split('\\t')[2]))\n",
    "    return df"
   ]
  },
  {
   "cell_type": "code",
   "execution_count": 13,
   "metadata": {
    "nbpresent": {
     "id": "98f4c21e-4c20-4269-baf9-e8aee823a0a2"
    }
   },
   "outputs": [],
   "source": [
    "def get_pos_counts(search_terms_list):\n",
    "    st = nlp(search_terms_list[0])\n",
    "    pos_st1 = pd.Series([x.pos_ for x in st]).value_counts()\n",
    "    del st\n",
    "    st = nlp(search_terms_list[1])\n",
    "    pos_st2 = pd.Series([x.pos_ for x in st]).value_counts()\n",
    "    del st\n",
    "    pos_tot = (pos_st1 + pos_st2).sort_values()"
   ]
  },
  {
   "cell_type": "code",
   "execution_count": 14,
   "metadata": {
    "nbpresent": {
     "id": "a5561847-0aa7-477a-b5ad-7a9d3c34c5b3"
    }
   },
   "outputs": [],
   "source": [
    "# # Plot\n",
    "# ax = pos_tot.plot(kind='bar')\n",
    "# ax.set_title('Count of POS Tags', )\n",
    "# ax.set_xlabel('POS Tag')\n",
    "# ax.set_ylabel('Count')\n",
    "# plt.savefig('pos_tags_bar.png', dpi=500, bbox_inches=\"tight\")"
   ]
  },
  {
   "cell_type": "code",
   "execution_count": 15,
   "metadata": {
    "nbpresent": {
     "id": "64e098f8-7623-45fc-82e3-6d87a322783c"
    }
   },
   "outputs": [],
   "source": [
    "def lemm(word, nlp):\n",
    "    return nlp(word)[0].lemma_"
   ]
  },
  {
   "cell_type": "markdown",
   "metadata": {
    "nbpresent": {
     "id": "71f0e3de-8a6b-4c09-a1f0-1431f45240ef"
    }
   },
   "source": [
    "## Import data"
   ]
  },
  {
   "cell_type": "code",
   "execution_count": 16,
   "metadata": {
    "nbpresent": {
     "id": "09e45bde-fc88-4519-90a5-6c18be7a6b2c"
    }
   },
   "outputs": [],
   "source": [
    "logging.info(\"Importing Data...\")\n",
    "os.listdir(data_path)\n",
    "zips = [f for f in os.listdir(data_path) if re.search(\".zip$\", f)]\n",
    "data_dict = {}\n",
    "for zipped in zips:\n",
    "    data_dict[zipped.split('.')[0]] = pd.read_csv(data_path+zipped, compression='zip', encoding='latin1')\n",
    "test_df = data_dict['test']\n",
    "train_df = data_dict['train']\n",
    "prod_desc = data_dict['product_descriptions']\n",
    "attributes = data_dict['attributes']\n",
    "sample_sub = data_dict['sample_submission']"
   ]
  },
  {
   "cell_type": "code",
   "execution_count": 19,
   "metadata": {},
   "outputs": [
    {
     "name": "stdout",
     "output_type": "stream",
     "text": [
      "74067\n"
     ]
    }
   ],
   "source": [
    "print(len(train_df['search_term']))"
   ]
  },
  {
   "cell_type": "markdown",
   "metadata": {
    "nbpresent": {
     "id": "4433a0d1-3a07-42a3-a558-3e287a8d4c67"
    }
   },
   "source": [
    "## Data Handling"
   ]
  },
  {
   "cell_type": "code",
   "execution_count": 20,
   "metadata": {
    "nbpresent": {
     "id": "6fa1b5a5-bb43-4d4e-8f83-92d7c3330b2a"
    }
   },
   "outputs": [],
   "source": [
    "logging.info(\"Preparing Data...\")\n",
    "attr = attributes.dropna(how='all')\n",
    "attr[['name','value']] = attr[['name','value']].fillna('')\n",
    "attr['product_uid'] = attr['product_uid'].apply(lambda x: int(x))\n",
    "attr['name'] = attr['name'].apply(lambda x: '' if \"Bullet\" in x else x)\n",
    "attr['Attributes'] = attr['name'] + '\\t' + attr['value'] + '\\n'\n",
    "attr = attr.drop(['name','value'], axis=1).groupby('product_uid').sum().reset_index()\n",
    "df_train = pd.merge(train_df, prod_desc, how='left', on='product_uid').drop('id', axis=1).merge(attr, on='product_uid', how='left').fillna('')"
   ]
  },
  {
   "cell_type": "code",
   "execution_count": 21,
   "metadata": {},
   "outputs": [
    {
     "name": "stdout",
     "output_type": "stream",
     "text": [
      "74067\n"
     ]
    }
   ],
   "source": [
    "print(len(df_train['search_term']))"
   ]
  },
  {
   "cell_type": "code",
   "execution_count": 22,
   "metadata": {
    "nbpresent": {
     "id": "dfb78a26-4b5a-405a-81ab-42a11823e4f0"
    }
   },
   "outputs": [
    {
     "data": {
      "text/html": [
       "<div>\n",
       "<style scoped>\n",
       "    .dataframe tbody tr th:only-of-type {\n",
       "        vertical-align: middle;\n",
       "    }\n",
       "\n",
       "    .dataframe tbody tr th {\n",
       "        vertical-align: top;\n",
       "    }\n",
       "\n",
       "    .dataframe thead th {\n",
       "        text-align: right;\n",
       "    }\n",
       "</style>\n",
       "<table border=\"1\" class=\"dataframe\">\n",
       "  <thead>\n",
       "    <tr style=\"text-align: right;\">\n",
       "      <th></th>\n",
       "      <th>product_uid</th>\n",
       "      <th>product_title</th>\n",
       "      <th>search_term</th>\n",
       "      <th>relevance</th>\n",
       "      <th>product_description</th>\n",
       "      <th>Attributes</th>\n",
       "    </tr>\n",
       "  </thead>\n",
       "  <tbody>\n",
       "    <tr>\n",
       "      <th>0</th>\n",
       "      <td>100001</td>\n",
       "      <td>Simpson Strong-Tie 12-Gauge Angle</td>\n",
       "      <td>angle bracket</td>\n",
       "      <td>3.00</td>\n",
       "      <td>Not only do angles make joints stronger, they ...</td>\n",
       "      <td>\\tVersatile connector for various 90Â° connect...</td>\n",
       "    </tr>\n",
       "    <tr>\n",
       "      <th>1</th>\n",
       "      <td>100001</td>\n",
       "      <td>Simpson Strong-Tie 12-Gauge Angle</td>\n",
       "      <td>l bracket</td>\n",
       "      <td>2.50</td>\n",
       "      <td>Not only do angles make joints stronger, they ...</td>\n",
       "      <td>\\tVersatile connector for various 90Â° connect...</td>\n",
       "    </tr>\n",
       "    <tr>\n",
       "      <th>2</th>\n",
       "      <td>100002</td>\n",
       "      <td>BEHR Premium Textured DeckOver 1-gal. #SC-141 ...</td>\n",
       "      <td>deck over</td>\n",
       "      <td>3.00</td>\n",
       "      <td>BEHR Premium Textured DECKOVER is an innovativ...</td>\n",
       "      <td>Application Method\\tBrush,Roller,Spray\\nAssemb...</td>\n",
       "    </tr>\n",
       "    <tr>\n",
       "      <th>3</th>\n",
       "      <td>100005</td>\n",
       "      <td>Delta Vero 1-Handle Shower Only Faucet Trim Ki...</td>\n",
       "      <td>rain shower head</td>\n",
       "      <td>2.33</td>\n",
       "      <td>Update your bathroom with the Delta Vero Singl...</td>\n",
       "      <td>Bath Faucet Type\\tCombo Tub and Shower\\nBuilt-...</td>\n",
       "    </tr>\n",
       "    <tr>\n",
       "      <th>4</th>\n",
       "      <td>100005</td>\n",
       "      <td>Delta Vero 1-Handle Shower Only Faucet Trim Ki...</td>\n",
       "      <td>shower only faucet</td>\n",
       "      <td>2.67</td>\n",
       "      <td>Update your bathroom with the Delta Vero Singl...</td>\n",
       "      <td>Bath Faucet Type\\tCombo Tub and Shower\\nBuilt-...</td>\n",
       "    </tr>\n",
       "  </tbody>\n",
       "</table>\n",
       "</div>"
      ],
      "text/plain": [
       "   product_uid                                      product_title  \\\n",
       "0       100001                  Simpson Strong-Tie 12-Gauge Angle   \n",
       "1       100001                  Simpson Strong-Tie 12-Gauge Angle   \n",
       "2       100002  BEHR Premium Textured DeckOver 1-gal. #SC-141 ...   \n",
       "3       100005  Delta Vero 1-Handle Shower Only Faucet Trim Ki...   \n",
       "4       100005  Delta Vero 1-Handle Shower Only Faucet Trim Ki...   \n",
       "\n",
       "          search_term  relevance  \\\n",
       "0       angle bracket       3.00   \n",
       "1           l bracket       2.50   \n",
       "2           deck over       3.00   \n",
       "3    rain shower head       2.33   \n",
       "4  shower only faucet       2.67   \n",
       "\n",
       "                                 product_description  \\\n",
       "0  Not only do angles make joints stronger, they ...   \n",
       "1  Not only do angles make joints stronger, they ...   \n",
       "2  BEHR Premium Textured DECKOVER is an innovativ...   \n",
       "3  Update your bathroom with the Delta Vero Singl...   \n",
       "4  Update your bathroom with the Delta Vero Singl...   \n",
       "\n",
       "                                          Attributes  \n",
       "0  \\tVersatile connector for various 90Â° connect...  \n",
       "1  \\tVersatile connector for various 90Â° connect...  \n",
       "2  Application Method\\tBrush,Roller,Spray\\nAssemb...  \n",
       "3  Bath Faucet Type\\tCombo Tub and Shower\\nBuilt-...  \n",
       "4  Bath Faucet Type\\tCombo Tub and Shower\\nBuilt-...  "
      ]
     },
     "execution_count": 22,
     "metadata": {},
     "output_type": "execute_result"
    }
   ],
   "source": [
    "df_train.head()"
   ]
  },
  {
   "cell_type": "markdown",
   "metadata": {
    "nbpresent": {
     "id": "4ed090a5-b7f7-438a-a0e4-26fefc66b3ef"
    }
   },
   "source": [
    "## Investigation"
   ]
  },
  {
   "cell_type": "code",
   "execution_count": 25,
   "metadata": {
    "nbpresent": {
     "id": "54a15042-c322-4c05-bc79-a104b82982c4"
    }
   },
   "outputs": [
    {
     "data": {
      "text/plain": [
       "<matplotlib.axes._subplots.AxesSubplot at 0x7fd15ac6aa90>"
      ]
     },
     "execution_count": 25,
     "metadata": {},
     "output_type": "execute_result"
    },
    {
     "data": {
      "image/png": "[encoded data removed]",
      "text/plain": [
       "<Figure size 432x288 with 1 Axes>"
      ]
     },
     "metadata": {},
     "output_type": "display_data"
    }
   ],
   "source": [
    "df_train['relevance'].hist(bins=8)"
   ]
  },
  {
   "cell_type": "code",
   "execution_count": 26,
   "metadata": {
    "nbpresent": {
     "id": "ccd0ef62-0abb-496b-8bea-6f3826f715b5"
    }
   },
   "outputs": [
    {
     "data": {
      "text/plain": [
       "3.2860806055139973"
      ]
     },
     "execution_count": 26,
     "metadata": {},
     "output_type": "execute_result"
    }
   ],
   "source": [
    "df_train['search_term'].apply(lambda x: len(x.split())).mean()"
   ]
  },
  {
   "cell_type": "code",
   "execution_count": 27,
   "metadata": {
    "nbpresent": {
     "id": "9dd05641-9951-46ca-80bd-d4926cc72237"
    }
   },
   "outputs": [],
   "source": [
    "words_st = ' '.join(df_train['search_term'].values).split()"
   ]
  },
  {
   "cell_type": "code",
   "execution_count": 28,
   "metadata": {
    "nbpresent": {
     "id": "6071138a-7888-4a21-a0d6-1d5a02ea3d3c"
    }
   },
   "outputs": [
    {
     "data": {
      "text/plain": [
       "5.970951733333334"
      ]
     },
     "execution_count": 28,
     "metadata": {},
     "output_type": "execute_result"
    }
   ],
   "source": [
    "len(words_st)/5000 * 9.64 / 60"
   ]
  },
  {
   "cell_type": "code",
   "execution_count": 29,
   "metadata": {
    "nbpresent": {
     "id": "adbdfc3e-8fa2-41b0-8193-b72972d10a49"
    }
   },
   "outputs": [
    {
     "data": {
      "text/plain": [
       "19.820586666666667"
      ]
     },
     "execution_count": 29,
     "metadata": {},
     "output_type": "execute_result"
    }
   ],
   "source": [
    "len(words_st)/5000 * 32 / 60"
   ]
  },
  {
   "cell_type": "markdown",
   "metadata": {
    "nbpresent": {
     "id": "e9e6eaee-eb4c-425e-8507-7c2e7bcaace9"
    }
   },
   "source": [
    "Okay. That was decent. However, let's work on this and do better!"
   ]
  },
  {
   "cell_type": "markdown",
   "metadata": {
    "nbpresent": {
     "id": "26104914-0592-492a-9632-6eb27d549c30"
    }
   },
   "source": [
    "Attributes wasn't used...I think there must be something here. Also only stems were taken...can we not extract keywords?"
   ]
  },
  {
   "cell_type": "code",
   "execution_count": 30,
   "metadata": {
    "nbpresent": {
     "id": "34214fa8-c4c9-4b76-822d-706b512253a3"
    }
   },
   "outputs": [],
   "source": [
    "df_train['query_len'] = df_train['search_term'].apply(lambda x: len(x.split()))"
   ]
  },
  {
   "cell_type": "code",
   "execution_count": 31,
   "metadata": {
    "nbpresent": {
     "id": "c6180c2c-9781-421d-9208-5047c1f5022c"
    }
   },
   "outputs": [
    {
     "data": {
      "text/plain": [
       "<matplotlib.axes._subplots.AxesSubplot at 0x7fd156f7ec50>"
      ]
     },
     "execution_count": 31,
     "metadata": {},
     "output_type": "execute_result"
    },
    {
     "data": {
      "image/png": "[encoded data removed]",
      "text/plain": [
       "<Figure size 432x288 with 1 Axes>"
      ]
     },
     "metadata": {},
     "output_type": "display_data"
    }
   ],
   "source": [
    "df_train['query_len'].hist(bins=15)"
   ]
  },
  {
   "cell_type": "code",
   "execution_count": 32,
   "metadata": {
    "nbpresent": {
     "id": "ee51aed1-dd57-482a-bf88-6be9a4e60f32"
    },
    "scrolled": true
   },
   "outputs": [
    {
     "data": {
      "text/plain": [
       "<matplotlib.axes._subplots.AxesSubplot at 0x7fd157a242e8>"
      ]
     },
     "execution_count": 32,
     "metadata": {},
     "output_type": "execute_result"
    },
    {
     "data": {
      "image/png": "[encoded data removed]",
      "text/plain": [
       "<Figure size 432x288 with 1 Axes>"
      ]
     },
     "metadata": {},
     "output_type": "display_data"
    }
   ],
   "source": [
    "df_train[['query_len','relevance']].plot(kind='scatter', x='relevance', y='query_len', alpha=0.4)"
   ]
  },
  {
   "cell_type": "code",
   "execution_count": 37,
   "metadata": {},
   "outputs": [
    {
     "data": {
      "text/html": [
       "<div>\n",
       "<style scoped>\n",
       "    .dataframe tbody tr th:only-of-type {\n",
       "        vertical-align: middle;\n",
       "    }\n",
       "\n",
       "    .dataframe tbody tr th {\n",
       "        vertical-align: top;\n",
       "    }\n",
       "\n",
       "    .dataframe thead th {\n",
       "        text-align: right;\n",
       "    }\n",
       "</style>\n",
       "<table border=\"1\" class=\"dataframe\">\n",
       "  <thead>\n",
       "    <tr style=\"text-align: right;\">\n",
       "      <th></th>\n",
       "      <th>product_uid</th>\n",
       "      <th>product_title</th>\n",
       "      <th>search_term</th>\n",
       "      <th>relevance</th>\n",
       "      <th>product_description</th>\n",
       "      <th>Attributes</th>\n",
       "    </tr>\n",
       "  </thead>\n",
       "  <tbody>\n",
       "    <tr>\n",
       "      <th>0</th>\n",
       "      <td>100001</td>\n",
       "      <td>Simpson Strong-Tie 12-Gauge Angle</td>\n",
       "      <td>angle bracket</td>\n",
       "      <td>3.0</td>\n",
       "      <td>Not only do angles make joints stronger, they ...</td>\n",
       "      <td>\\tVersatile connector for various 90Â° connect...</td>\n",
       "    </tr>\n",
       "  </tbody>\n",
       "</table>\n",
       "</div>"
      ],
      "text/plain": [
       "   product_uid                      product_title    search_term  relevance  \\\n",
       "0       100001  Simpson Strong-Tie 12-Gauge Angle  angle bracket        3.0   \n",
       "\n",
       "                                 product_description  \\\n",
       "0  Not only do angles make joints stronger, they ...   \n",
       "\n",
       "                                          Attributes  \n",
       "0  \\tVersatile connector for various 90Â° connect...  "
      ]
     },
     "execution_count": 37,
     "metadata": {},
     "output_type": "execute_result"
    }
   ],
   "source": [
    "df_train.head(1)"
   ]
  },
  {
   "cell_type": "code",
   "execution_count": 47,
   "metadata": {},
   "outputs": [],
   "source": [
    "cols = list(df_train.columns)"
   ]
  },
  {
   "cell_type": "code",
   "execution_count": 48,
   "metadata": {
    "nbpresent": {
     "id": "2a0b4eca-6ff2-463c-8d41-85f76f08837b"
    }
   },
   "outputs": [],
   "source": [
    "# I'm Pickle Riiiick!\n",
    "print('Saving searches...')\n",
    "searches_nlp = df_train.iloc[:, [cols.index('product_uid'),cols.index('search_term')]]\n",
    "searches_nlp['search_term'] = searches_nlp['search_term'].apply(nlp_tag)\n",
    "searches_nlp.to_pickle(data_path+'search_term.pickle')\n",
    "del searches_nlp\n",
    "\n",
    "print('Saving titles...')\n",
    "product_title_nlp = df_train.iloc[:, [cols.index('product_uid'),cols.index('product_title')]]\n",
    "product_title_nlp['product_title'] = product_title_nlp['product_title'].apply(nlp_tag)\n",
    "product_title_nlp.to_pickle(data_path+'product_title.pickle')\n",
    "del product_title_nlp"
   ]
  },
  {
   "cell_type": "code",
   "execution_count": 49,
   "metadata": {},
   "outputs": [
    {
     "name": "stdout",
     "output_type": "stream",
     "text": [
      "Saving file 1 of 4\n",
      "Saving file 2 of 4\n",
      "Saving file 3 of 4\n",
      "Saving file 4 of 4\n"
     ]
    }
   ],
   "source": [
    "sp = 4\n",
    "for i in range(1,sp+1):\n",
    "    print(\"Saving file {} of {}\".format(i,sp))\n",
    "    product_desc_nlp = df_train.iloc[int((i-1)*len(df_train)/sp):int(i*len(df_train)/sp), [cols.index('product_uid'),cols.index('product_description')]]\n",
    "    product_desc_nlp['product_description'] = product_desc_nlp['product_description'].apply(nlp_tag)\n",
    "    product_desc_nlp.to_pickle(data_path+'product_description{}.pickle'.format(str(i)))\n",
    "    del product_desc_nlp"
   ]
  },
  {
   "cell_type": "code",
   "execution_count": 52,
   "metadata": {},
   "outputs": [
    {
     "name": "stdout",
     "output_type": "stream",
     "text": [
      "Saving file 1 of 5\n",
      "Saving file 2 of 5\n",
      "Saving file 3 of 5\n",
      "Saving file 4 of 5\n",
      "Saving file 5 of 5\n"
     ]
    }
   ],
   "source": [
    "sp = 5\n",
    "for i in range(1,sp+1):\n",
    "    print(\"Saving file {} of {}\".format(i,sp))\n",
    "    attr_nlp = df_train.iloc[int((i-1)*len(df_train)/sp):int(i*len(df_train)/sp), [cols.index('product_uid'),cols.index('Attributes')]]\n",
    "    attr_nlp['Attributes'] = attr_nlp['Attributes'].apply(nlp_tag)\n",
    "    attr_nlp.to_pickle(data_path+'attribute{}.pickle'.format(str(i)))\n",
    "    del attr_nlp"
   ]
  },
  {
   "cell_type": "code",
   "execution_count": null,
   "metadata": {},
   "outputs": [],
   "source": []
  }
 ],
 "metadata": {
  "kernelspec": {
   "display_name": "Python [default]",
   "language": "python",
   "name": "python3"
  },
  "language_info": {
   "codemirror_mode": {
    "name": "ipython",
    "version": 3
   },
   "file_extension": ".py",
   "mimetype": "text/x-python",
   "name": "python",
   "nbconvert_exporter": "python",
   "pygments_lexer": "ipython3",
   "version": "3.6.5"
  }
 },
 "nbformat": 4,
 "nbformat_minor": 2
}
