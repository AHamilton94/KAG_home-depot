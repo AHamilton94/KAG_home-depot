{
 "cells": [
  {
   "cell_type": "markdown",
   "metadata": {},
   "source": [
    "# Scrapbook for Home-depot Question"
   ]
  },
  {
   "cell_type": "markdown",
   "metadata": {},
   "source": [
    "## Imports"
   ]
  },
  {
   "cell_type": "code",
   "execution_count": 1,
   "metadata": {},
   "outputs": [],
   "source": [
    "# Data Wrangling\n",
    "import numpy as np\n",
    "import pandas as pd"
   ]
  },
  {
   "cell_type": "code",
   "execution_count": 128,
   "metadata": {},
   "outputs": [],
   "source": [
    "# Plotting\n",
    "import matplotlib.pyplot as plt\n",
    "import seaborn as sns\n",
    "sns.set_style(\"whitegrid\")\n",
    "%matplotlib inline"
   ]
  },
  {
   "cell_type": "code",
   "execution_count": 3,
   "metadata": {},
   "outputs": [],
   "source": [
    "# Misc\n",
    "import os\n",
    "import re\n",
    "from pprint import pprint as pp"
   ]
  },
  {
   "cell_type": "code",
   "execution_count": 4,
   "metadata": {},
   "outputs": [
    {
     "name": "stdout",
     "output_type": "stream",
     "text": [
      "[nltk_data] Downloading package punkt to /root/nltk_data...\n",
      "[nltk_data]   Unzipping tokenizers/punkt.zip.\n",
      "[nltk_data] Downloading package averaged_perceptron_tagger to\n",
      "[nltk_data]     /root/nltk_data...\n",
      "[nltk_data]   Unzipping taggers/averaged_perceptron_tagger.zip.\n"
     ]
    }
   ],
   "source": [
    "# Machine Learning\n",
    "import nltk\n",
    "import spacy\n",
    "nltk.download('punkt')\n",
    "nltk.download('averaged_perceptron_tagger')\n",
    "from nltk.stem.snowball import SnowballStemmer\n",
    "from sklearn.ensemble import RandomForestRegressor, BaggingRegressor\n",
    "from sklearn.model_selection import train_test_split\n",
    "from sklearn import metrics"
   ]
  },
  {
   "cell_type": "markdown",
   "metadata": {},
   "source": [
    "## Config"
   ]
  },
  {
   "cell_type": "code",
   "execution_count": 64,
   "metadata": {},
   "outputs": [],
   "source": [
    "pd.options.mode.chained_assignment = None"
   ]
  },
  {
   "cell_type": "code",
   "execution_count": 5,
   "metadata": {},
   "outputs": [],
   "source": [
    "data_path = \"../../scrap/KAG_home-depot/\""
   ]
  },
  {
   "cell_type": "code",
   "execution_count": 6,
   "metadata": {},
   "outputs": [],
   "source": [
    "stemmer = SnowballStemmer('english')"
   ]
  },
  {
   "cell_type": "code",
   "execution_count": 15,
   "metadata": {},
   "outputs": [],
   "source": [
    "nlp = spacy.load('en')"
   ]
  },
  {
   "cell_type": "code",
   "execution_count": 16,
   "metadata": {},
   "outputs": [],
   "source": [
    "nlp_tag = spacy.load('en', disable=['parser', 'ner'])"
   ]
  },
  {
   "cell_type": "markdown",
   "metadata": {},
   "source": [
    "## Functions"
   ]
  },
  {
   "cell_type": "code",
   "execution_count": 17,
   "metadata": {},
   "outputs": [],
   "source": [
    "def str_stemmer(s):\n",
    "    return \" \".join([stemmer.stem(word) for word in s.lower().split()])"
   ]
  },
  {
   "cell_type": "code",
   "execution_count": 18,
   "metadata": {},
   "outputs": [],
   "source": [
    "def str_common_word(str1, str2):\n",
    "    return sum(int(str2.find(word)>=0) for word in str1.split())"
   ]
  },
  {
   "cell_type": "code",
   "execution_count": 102,
   "metadata": {},
   "outputs": [],
   "source": [
    "def process_data(df):\n",
    "    df['product_title'] = df['product_title'].apply(lambda x: str_stemmer(x))\n",
    "    df['search_term'] = df['search_term'].apply(lambda x: str_stemmer(x))\n",
    "    df['product_description'] = df['product_description'].apply(lambda x: str_stemmer(x))\n",
    "    df['query_len'] = df['search_term'].apply(lambda x: len(x.split()))\n",
    "    df['product_info'] = df['search_term']+\"\\t\"+df['product_title']+\"\\t\"+df['product_description']\n",
    "    df['word_in_title'] = df['product_info'].map(lambda x:str_common_word(x.split('\\t')[0],x.split('\\t')[1]))\n",
    "    df['word_in_description'] = df['product_info'].map(lambda x:str_common_word(x.split('\\t')[0],x.split('\\t')[2]))\n",
    "    return df"
   ]
  },
  {
   "cell_type": "code",
   "execution_count": 20,
   "metadata": {},
   "outputs": [],
   "source": [
    "def get_pos_counts(search_terms_list):\n",
    "    st = nlp(search_terms_list[0])\n",
    "    pos_st1 = pd.Series([x.pos_ for x in st]).value_counts()\n",
    "    del st\n",
    "    st = nlp(search_terms_list[1])\n",
    "    pos_st2 = pd.Series([x.pos_ for x in st]).value_counts()\n",
    "    del st\n",
    "    pos_tot = (pos_st1 + pos_st2).sort_values()"
   ]
  },
  {
   "cell_type": "code",
   "execution_count": 21,
   "metadata": {},
   "outputs": [],
   "source": [
    "# # Plot\n",
    "# ax = pos_tot.plot(kind='bar')\n",
    "# ax.set_title('Count of POS Tags', )\n",
    "# ax.set_xlabel('POS Tag')\n",
    "# ax.set_ylabel('Count')\n",
    "# plt.savefig('pos_tags_bar.png', dpi=500, bbox_inches=\"tight\")"
   ]
  },
  {
   "cell_type": "code",
   "execution_count": 22,
   "metadata": {},
   "outputs": [],
   "source": [
    "def lemm(word, nlp):\n",
    "    return nlp(word)[0].lemma_"
   ]
  },
  {
   "cell_type": "markdown",
   "metadata": {},
   "source": [
    "## Import data"
   ]
  },
  {
   "cell_type": "code",
   "execution_count": 103,
   "metadata": {},
   "outputs": [
    {
     "name": "stdout",
     "output_type": "stream",
     "text": [
      "['attributes.csv', 'sample_submission.csv', 'product_descriptions.csv', 'train.csv', 'df_test.csv', 'test.csv', 'df_train.csv']\n"
     ]
    }
   ],
   "source": [
    "os.listdir('../../scrap/')\n",
    "csvs = [f for f in os.listdir(data_path) if re.search(\".csv$\", f)]\n",
    "data_dict = {}\n",
    "for csv in csvs:\n",
    "    data_dict[csv.split()[0]] = pd.read_csv(data_path+csv, encoding='latin1')\n",
    "test_df = data_dict['test.csv']\n",
    "train_df = data_dict['train.csv']\n",
    "prod_desc = data_dict['product_descriptions.csv']\n",
    "attributes = data_dict['attributes.csv']\n",
    "sample_sub = data_dict['sample_submission.csv']"
   ]
  },
  {
   "cell_type": "markdown",
   "metadata": {},
   "source": [
    "## Data Handling"
   ]
  },
  {
   "cell_type": "code",
   "execution_count": 122,
   "metadata": {},
   "outputs": [],
   "source": [
    "attr = attributes.dropna(how='all')\n",
    "attr[['name','value']] = attr[['name','value']].fillna('')\n",
    "attr['product_uid'] = attr['product_uid'].apply(lambda x: int(x))\n",
    "attr['name'] = attr['name'].apply(lambda x: '' if \"Bullet\" in x else x)\n",
    "attr['Attributes'] = attr['name'] + '\\t' + attr['value'] + '\\n'\n",
    "attr = attr.drop(['name','value'], axis=1).groupby('product_uid').sum().reset_index()\n",
    "df_train = pd.merge(train_df, prod_desc, how='left', on='product_uid').drop('id', axis=1).merge(attr, on='product_uid')"
   ]
  },
  {
   "cell_type": "code",
   "execution_count": 139,
   "metadata": {},
   "outputs": [
    {
     "data": {
      "text/html": [
       "<div>\n",
       "<style>\n",
       "    .dataframe thead tr:only-child th {\n",
       "        text-align: right;\n",
       "    }\n",
       "\n",
       "    .dataframe thead th {\n",
       "        text-align: left;\n",
       "    }\n",
       "\n",
       "    .dataframe tbody tr th {\n",
       "        vertical-align: top;\n",
       "    }\n",
       "</style>\n",
       "<table border=\"1\" class=\"dataframe\">\n",
       "  <thead>\n",
       "    <tr style=\"text-align: right;\">\n",
       "      <th></th>\n",
       "      <th>product_uid</th>\n",
       "      <th>product_title</th>\n",
       "      <th>search_term</th>\n",
       "      <th>relevance</th>\n",
       "      <th>product_description</th>\n",
       "      <th>Attributes</th>\n",
       "    </tr>\n",
       "  </thead>\n",
       "  <tbody>\n",
       "    <tr>\n",
       "      <th>0</th>\n",
       "      <td>100001</td>\n",
       "      <td>Simpson Strong-Tie 12-Gauge Angle</td>\n",
       "      <td>angle bracket</td>\n",
       "      <td>3.00</td>\n",
       "      <td>Not only do angles make joints stronger, they ...</td>\n",
       "      <td>\\tVersatile connector for various 90Â° connect...</td>\n",
       "    </tr>\n",
       "    <tr>\n",
       "      <th>1</th>\n",
       "      <td>100001</td>\n",
       "      <td>Simpson Strong-Tie 12-Gauge Angle</td>\n",
       "      <td>l bracket</td>\n",
       "      <td>2.50</td>\n",
       "      <td>Not only do angles make joints stronger, they ...</td>\n",
       "      <td>\\tVersatile connector for various 90Â° connect...</td>\n",
       "    </tr>\n",
       "    <tr>\n",
       "      <th>2</th>\n",
       "      <td>100002</td>\n",
       "      <td>BEHR Premium Textured DeckOver 1-gal. #SC-141 ...</td>\n",
       "      <td>deck over</td>\n",
       "      <td>3.00</td>\n",
       "      <td>BEHR Premium Textured DECKOVER is an innovativ...</td>\n",
       "      <td>Application Method\\tBrush,Roller,Spray\\nAssemb...</td>\n",
       "    </tr>\n",
       "    <tr>\n",
       "      <th>3</th>\n",
       "      <td>100005</td>\n",
       "      <td>Delta Vero 1-Handle Shower Only Faucet Trim Ki...</td>\n",
       "      <td>rain shower head</td>\n",
       "      <td>2.33</td>\n",
       "      <td>Update your bathroom with the Delta Vero Singl...</td>\n",
       "      <td>Bath Faucet Type\\tCombo Tub and Shower\\nBuilt-...</td>\n",
       "    </tr>\n",
       "    <tr>\n",
       "      <th>4</th>\n",
       "      <td>100005</td>\n",
       "      <td>Delta Vero 1-Handle Shower Only Faucet Trim Ki...</td>\n",
       "      <td>shower only faucet</td>\n",
       "      <td>2.67</td>\n",
       "      <td>Update your bathroom with the Delta Vero Singl...</td>\n",
       "      <td>Bath Faucet Type\\tCombo Tub and Shower\\nBuilt-...</td>\n",
       "    </tr>\n",
       "  </tbody>\n",
       "</table>\n",
       "</div>"
      ],
      "text/plain": [
       "   product_uid                                      product_title  \\\n",
       "0       100001                  Simpson Strong-Tie 12-Gauge Angle   \n",
       "1       100001                  Simpson Strong-Tie 12-Gauge Angle   \n",
       "2       100002  BEHR Premium Textured DeckOver 1-gal. #SC-141 ...   \n",
       "3       100005  Delta Vero 1-Handle Shower Only Faucet Trim Ki...   \n",
       "4       100005  Delta Vero 1-Handle Shower Only Faucet Trim Ki...   \n",
       "\n",
       "          search_term  relevance  \\\n",
       "0       angle bracket       3.00   \n",
       "1           l bracket       2.50   \n",
       "2           deck over       3.00   \n",
       "3    rain shower head       2.33   \n",
       "4  shower only faucet       2.67   \n",
       "\n",
       "                                 product_description  \\\n",
       "0  Not only do angles make joints stronger, they ...   \n",
       "1  Not only do angles make joints stronger, they ...   \n",
       "2  BEHR Premium Textured DECKOVER is an innovativ...   \n",
       "3  Update your bathroom with the Delta Vero Singl...   \n",
       "4  Update your bathroom with the Delta Vero Singl...   \n",
       "\n",
       "                                          Attributes  \n",
       "0  \\tVersatile connector for various 90Â° connect...  \n",
       "1  \\tVersatile connector for various 90Â° connect...  \n",
       "2  Application Method\\tBrush,Roller,Spray\\nAssemb...  \n",
       "3  Bath Faucet Type\\tCombo Tub and Shower\\nBuilt-...  \n",
       "4  Bath Faucet Type\\tCombo Tub and Shower\\nBuilt-...  "
      ]
     },
     "execution_count": 139,
     "metadata": {},
     "output_type": "execute_result"
    }
   ],
   "source": [
    "df_train.head()"
   ]
  },
  {
   "cell_type": "markdown",
   "metadata": {},
   "source": [
    "## Investigation"
   ]
  },
  {
   "cell_type": "code",
   "execution_count": 138,
   "metadata": {},
   "outputs": [
    {
     "data": {
      "text/plain": [
       "<matplotlib.axes._subplots.AxesSubplot at 0x7fba8f0f0400>"
      ]
     },
     "execution_count": 138,
     "metadata": {},
     "output_type": "execute_result"
    },
    {
     "data": {
      "image/png": "[encoded data removed]",
      "text/plain": [
       "<matplotlib.figure.Figure at 0x7fba8f0f1400>"
      ]
     },
     "metadata": {},
     "output_type": "display_data"
    }
   ],
   "source": [
    "df_train['relevance'].hist(bins=8)"
   ]
  },
  {
   "cell_type": "code",
   "execution_count": 42,
   "metadata": {},
   "outputs": [],
   "source": [
    "# Get docs\n",
    "pt_doc = nlp(df_train.iloc[0,1])\n",
    "st_doc = nlp(df_train.iloc[0,2])\n",
    "pd_doc = nlp(df_train.iloc[0,4])"
   ]
  },
  {
   "cell_type": "code",
   "execution_count": 43,
   "metadata": {},
   "outputs": [
    {
     "data": {
      "text/plain": [
       "3.1592072042880095"
      ]
     },
     "execution_count": 43,
     "metadata": {},
     "output_type": "execute_result"
    }
   ],
   "source": [
    "df_train['search_term'].apply(lambda x: len(x.split())).mean()"
   ]
  },
  {
   "cell_type": "code",
   "execution_count": 44,
   "metadata": {},
   "outputs": [
    {
     "name": "stdout",
     "output_type": "stream",
     "text": [
      "BEHR Premium Textured DeckOver 1-gal. #SC-141 Tugboat Wood and Concrete Coating\n",
      "\n",
      "deck over\n",
      "\n",
      "BEHR Premium Textured DECKOVER is an innovative solid color coating. It will bring your old, weathered wood or concrete back to life. The advanced 100% acrylic resin formula creates a durable coating for your tired and worn out deck, rejuvenating to a whole new look.  For the best results, be sure to properly prepare the surface using other applicable BEHR products displayed above.California residents: see&nbsp;Proposition 65 informationRevives wood and composite decks, railings, porches and boat docks, also great for concrete pool decks, patios and sidewalks100% acrylic solid color coatingResists cracking and peeling and conceals splinters and cracks up to 1/4 in.Provides a durable, mildew resistant finishCovers up to 75 sq. ft. in 2 coats per gallonCreates a textured, slip-resistant finishFor best results, prepare with the appropriate BEHR product for your wood or concrete surfaceActual paint colors may vary from on-screen and printer representationsColors available to be tinted in most storesOnline Price includes Paint Care fee in the following states: CA, CO, CT, ME, MN, OR, RI, VT\n",
      "\n",
      "product_uid\n",
      "100002                Application Method\n",
      "100002             Assembled Depth (in.)\n",
      "100002            Assembled Height (in.)\n",
      "100002             Assembled Width (in.)\n",
      "100002                           Cleanup\n",
      "100002                      Color Family\n",
      "100002                      Color/Finish\n",
      "100002                      Concrete Use\n",
      "100002                    Container Size\n",
      "100002           Coverage Area (sq. ft.)\n",
      "100002                          Deck Use\n",
      "100002                 Interior/Exterior\n",
      "100002                    MFG Brand Name\n",
      "100002                  Mildew Resistant\n",
      "100002                             Multi\n",
      "100002                           Opacity\n",
      "100002                Paint Product Type\n",
      "100002    Patching & Repair Product Type\n",
      "100002                     Product Style\n",
      "100002                         RGB Value\n",
      "100002                            Sealer\n",
      "100002     Time before recoating (hours)\n",
      "100002                          Tintable\n",
      "100002                      Transparency\n",
      "100002                      UV Resistant\n",
      "100002                        Waterproof\n",
      "Name: name, dtype: object\n",
      "array(['Brush,Roller,Spray', '6.63 in', '7.76 in', '6.63 in',\n",
      "       'Soap and Water', 'Browns / Tans', 'Tugboat', 'Yes', '1 GA-Gallon',\n",
      "       '75', 'Yes', 'Exterior', 'BEHR Premium Textured DeckOver', 'Yes',\n",
      "       'Revives wood and composite decks, railings, porches and boat docks, also great for concrete pool decks, patios and sidewalks\\n100% acrylic solid color coating\\nResists cracking and peeling and conceals splinters and cracks up to 1/4 in.\\nProvides a durable, mildew resistant finish\\nCovers up to 75 sq. ft. in 2 coats per gallon\\nCreates a textured, slip-resistant finish\\nFor best results, prepare with the appropriate BEHR product for your wood or concrete surface\\nActual paint colors may vary from on-screen and printer representations\\nColors available to be tinted in most stores\\nOnline Price includes Paint Care fee in the following states: CA, CO, CT, ME, MN, OR, RI, VT',\n",
      "       'Solid', 'Exterior Paint/Stain', 'Restoration Coating', 'Cottage',\n",
      "       '119:100:086', 'No', '6', 'No', 'Solid', 'Yes', 'No'], dtype=object)\n"
     ]
    }
   ],
   "source": [
    "uid = 100002\n",
    "print(df_train[(df_train['relevance']==3.0) & (df_train['product_uid']==uid)].head()['product_title'].values[0])\n",
    "print()\n",
    "print(df_train[(df_train['relevance']==3.0) & (df_train['product_uid']==uid)].head()['search_term'].values[0])\n",
    "print()\n",
    "print(df_train[(df_train['relevance']==3.0) & (df_train['product_uid']==uid)].head()['product_description'].values[0])\n",
    "print()\n",
    "pp(attr.loc[uid, 'name'])\n",
    "pp(attr.loc[uid, 'value'].values)"
   ]
  },
  {
   "cell_type": "code",
   "execution_count": 45,
   "metadata": {},
   "outputs": [
    {
     "name": "stdout",
     "output_type": "stream",
     "text": [
      "[Not, angles, joints, stronger, ,, provide, consistent, ,, straight, corners, ., Simpson, Strong, -, Tie, offers, wide, variety, angles, sizes, thicknesses, handle, light, -, duty, jobs, projects, structural, connection, needed, ., Some, bent, (, skewed, ), match, project, ., For, outdoor, projects, moisture, present, ,, use, ZMAX, zinc, -, coated, connectors, ,, provide, extra, resistance, corrosion, (, look, \", Z, \", end, model, number).Versatile, connector, 90, connections, home, repair, projectsStronger, angled, nailing, screw, fastening, aloneHelp, ensure, joints, consistently, straight, strongDimensions, :, 3, ., x, 3, ., x, 1, -, 1/2, ., Made, 12-Gauge, steelGalvanized, extra, corrosion, resistanceInstall, 10d, common, nails, #, 9, x, 1, -, 1/2, ., Strong, -, Drive, SD, screws]\n"
     ]
    }
   ],
   "source": [
    "print([x for x in pd_doc if not x.is_stop])"
   ]
  },
  {
   "cell_type": "code",
   "execution_count": 46,
   "metadata": {},
   "outputs": [],
   "source": [
    "search_terms = ' '.join(df_train['search_term'].values)"
   ]
  },
  {
   "cell_type": "code",
   "execution_count": 47,
   "metadata": {},
   "outputs": [],
   "source": [
    "l = len(search_terms)\n",
    "search_terms_list = [\n",
    "    search_terms[0:int(l/2)],\n",
    "    search_terms[int(l/2):]\n",
    "]"
   ]
  },
  {
   "cell_type": "code",
   "execution_count": 126,
   "metadata": {},
   "outputs": [],
   "source": [
    "words_st = ' '.join(df_train['search_term'].values).split()"
   ]
  },
  {
   "cell_type": "code",
   "execution_count": 156,
   "metadata": {},
   "outputs": [
    {
     "data": {
      "text/plain": [
       "7.518975066666667"
      ]
     },
     "execution_count": 156,
     "metadata": {},
     "output_type": "execute_result"
    }
   ],
   "source": [
    "len(words_st)/5000 * 9.64 / 60"
   ]
  },
  {
   "cell_type": "code",
   "execution_count": 158,
   "metadata": {},
   "outputs": [
    {
     "data": {
      "text/plain": [
       "24.959253333333333"
      ]
     },
     "execution_count": 158,
     "metadata": {},
     "output_type": "execute_result"
    }
   ],
   "source": [
    "len(words_st)/5000 * 32 / 60"
   ]
  },
  {
   "cell_type": "code",
   "execution_count": 165,
   "metadata": {},
   "outputs": [
    {
     "name": "stdout",
     "output_type": "stream",
     "text": [
      "0.0787668228149414\n"
     ]
    }
   ],
   "source": [
    "import time\n",
    "start = time.time()\n",
    "# list((map(lambda x: lemm(x, nlp_tag), words_st[:5000])))\n",
    "stems = list(map(lambda x: (stemmer.stem(x),), words_st))\n",
    "print(time.time()-start)"
   ]
  },
  {
   "cell_type": "markdown",
   "metadata": {},
   "source": [
    "Okay. That was decent. However, let's work on this and do better!"
   ]
  },
  {
   "cell_type": "markdown",
   "metadata": {},
   "source": [
    "Attributes wasn't used...I think there must be something here. Also only stems were taken...can we not extract keywords?"
   ]
  },
  {
   "cell_type": "code",
   "execution_count": 191,
   "metadata": {},
   "outputs": [
    {
     "data": {
      "text/plain": [
       "[('12', 'CD'),\n",
       " ('Simpson', 'NNP'),\n",
       " ('Strong-Tie', 'NNP'),\n",
       " ('Galvanized', 'NNP'),\n",
       " ('Steel', 'NNP'),\n",
       " ('Versatile', 'NNP'),\n",
       " ('connector', 'NN'),\n",
       " ('for', 'IN'),\n",
       " ('various', 'JJ'),\n",
       " ('90Â°', 'CD'),\n",
       " ('connections', 'NNS'),\n",
       " ('and', 'CC'),\n",
       " ('home', 'NN'),\n",
       " ('repair', 'NN'),\n",
       " ('projects', 'NNS'),\n",
       " ('Stronger', 'JJR'),\n",
       " ('than', 'IN'),\n",
       " ('angled', 'VBN'),\n",
       " ('nailing', 'NN'),\n",
       " ('or', 'CC'),\n",
       " ('screw', 'JJ'),\n",
       " ('fastening', 'VBG'),\n",
       " ('alone', 'RB'),\n",
       " ('Help', 'NNP'),\n",
       " ('ensure', 'VB'),\n",
       " ('joints', 'NNS'),\n",
       " ('are', 'VBP'),\n",
       " ('consistently', 'RB'),\n",
       " ('straight', 'JJ'),\n",
       " ('and', 'CC'),\n",
       " ('strong', 'JJ'),\n",
       " ('Dimensions', 'NNS'),\n",
       " (':', ':'),\n",
       " ('3', 'CD'),\n",
       " ('in', 'IN'),\n",
       " ('.', '.'),\n",
       " ('x', 'JJ'),\n",
       " ('3', 'CD'),\n",
       " ('in', 'IN'),\n",
       " ('.', '.'),\n",
       " ('x', 'JJ'),\n",
       " ('1-1/2', 'JJ'),\n",
       " ('in', 'IN'),\n",
       " ('.', '.'),\n",
       " ('Made', 'VBN'),\n",
       " ('from', 'IN'),\n",
       " ('12-Gauge', 'JJ'),\n",
       " ('steel', 'NN'),\n",
       " ('Galvanized', 'NNP'),\n",
       " ('for', 'IN'),\n",
       " ('extra', 'JJ'),\n",
       " ('corrosion', 'NN'),\n",
       " ('resistance', 'NN'),\n",
       " ('Install', 'NNP'),\n",
       " ('with', 'IN'),\n",
       " ('10d', 'CD'),\n",
       " ('common', 'JJ'),\n",
       " ('nails', 'NNS'),\n",
       " ('or', 'CC'),\n",
       " ('#', '#'),\n",
       " ('9', 'CD'),\n",
       " ('x', 'JJ'),\n",
       " ('1-1/2', 'JJ'),\n",
       " ('in', 'IN'),\n",
       " ('.', '.'),\n",
       " ('Strong-Drive', 'JJ'),\n",
       " ('SD', 'NNP'),\n",
       " ('screws', 'VBZ'),\n",
       " ('1', 'CD'),\n",
       " ('1.5', 'CD'),\n",
       " ('3', 'CD'),\n",
       " ('0.26', 'CD'),\n",
       " ('3', 'CD')]"
      ]
     },
     "execution_count": 191,
     "metadata": {},
     "output_type": "execute_result"
    }
   ],
   "source": [
    "nltk.pos_tag(nltk.word_tokenize(' '.join(attr.loc[100001, 'value'].values)))"
   ]
  },
  {
   "cell_type": "code",
   "execution_count": 57,
   "metadata": {},
   "outputs": [
    {
     "data": {
      "text/html": [
       "<div>\n",
       "<style>\n",
       "    .dataframe thead tr:only-child th {\n",
       "        text-align: right;\n",
       "    }\n",
       "\n",
       "    .dataframe thead th {\n",
       "        text-align: left;\n",
       "    }\n",
       "\n",
       "    .dataframe tbody tr th {\n",
       "        vertical-align: top;\n",
       "    }\n",
       "</style>\n",
       "<table border=\"1\" class=\"dataframe\">\n",
       "  <thead>\n",
       "    <tr style=\"text-align: right;\">\n",
       "      <th></th>\n",
       "      <th>name</th>\n",
       "      <th>value</th>\n",
       "    </tr>\n",
       "    <tr>\n",
       "      <th>product_uid</th>\n",
       "      <th></th>\n",
       "      <th></th>\n",
       "    </tr>\n",
       "  </thead>\n",
       "  <tbody>\n",
       "    <tr>\n",
       "      <th>100001</th>\n",
       "      <td>Gauge</td>\n",
       "      <td>12</td>\n",
       "    </tr>\n",
       "    <tr>\n",
       "      <th>100001</th>\n",
       "      <td>MFG Brand Name</td>\n",
       "      <td>Simpson Strong-Tie</td>\n",
       "    </tr>\n",
       "    <tr>\n",
       "      <th>100001</th>\n",
       "      <td>Material</td>\n",
       "      <td>Galvanized Steel</td>\n",
       "    </tr>\n",
       "    <tr>\n",
       "      <th>100001</th>\n",
       "      <td>Multi</td>\n",
       "      <td>Versatile connector for various 90Â° connectio...</td>\n",
       "    </tr>\n",
       "    <tr>\n",
       "      <th>100001</th>\n",
       "      <td>Number of Pieces</td>\n",
       "      <td>1</td>\n",
       "    </tr>\n",
       "  </tbody>\n",
       "</table>\n",
       "</div>"
      ],
      "text/plain": [
       "                         name  \\\n",
       "product_uid                     \n",
       "100001                  Gauge   \n",
       "100001         MFG Brand Name   \n",
       "100001               Material   \n",
       "100001                  Multi   \n",
       "100001       Number of Pieces   \n",
       "\n",
       "                                                         value  \n",
       "product_uid                                                     \n",
       "100001                                                      12  \n",
       "100001                                      Simpson Strong-Tie  \n",
       "100001                                        Galvanized Steel  \n",
       "100001       Versatile connector for various 90Â° connectio...  \n",
       "100001                                                       1  "
      ]
     },
     "execution_count": 57,
     "metadata": {},
     "output_type": "execute_result"
    }
   ],
   "source": [
    "attr.head()"
   ]
  },
  {
   "cell_type": "code",
   "execution_count": null,
   "metadata": {},
   "outputs": [],
   "source": []
  }
 ],
 "metadata": {
  "kernelspec": {
   "display_name": "Python 3.5",
   "language": "python",
   "name": "py35"
  },
  "language_info": {
   "codemirror_mode": {
    "name": "ipython",
    "version": 3
   },
   "file_extension": ".py",
   "mimetype": "text/x-python",
   "name": "python",
   "nbconvert_exporter": "python",
   "pygments_lexer": "ipython3",
   "version": "3.5.4"
  }
 },
 "nbformat": 4,
 "nbformat_minor": 2
}
